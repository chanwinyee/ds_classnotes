{
 "cells": [
  {
   "cell_type": "markdown",
   "metadata": {},
   "source": [
    "## Learning Objective\n",
    "\n",
    "Today we are going to focus on two questions:\n",
    "\n",
    "1. How can we automatically find patterns?\n",
    "2. How can we prove a pattern exists once we find it?\n",
    "\n",
    "Both of these questions turn out to be crucial for doing machine learning, and we will "
   ]
  },
  {
   "cell_type": "markdown",
   "metadata": {},
   "source": [
    "# Make a pattern\n",
    "\n",
    "Let's start off by making a pattern and getting some data on that pattern:"
   ]
  },
  {
   "cell_type": "code",
   "execution_count": 1,
   "metadata": {},
   "outputs": [],
   "source": [
    "%matplotlib inline\n",
    "\n",
    "import numpy as np\n",
    "import seaborn as sns"
   ]
  },
  {
   "cell_type": "code",
   "execution_count": 7,
   "metadata": {},
   "outputs": [],
   "source": [
    "secret_pattern = 42 + 256\n",
    "\n",
    "X = np.random.randint(0, 1024, size=10)\n",
    "Y = X ^ secret_pattern # ^ aggregates the binary versions of the number\n",
    "\n",
    "# adding in random noise to the first entry\n",
    "# Y[0] = Y[0] + 1\n",
    "Y[0] += 1"
   ]
  },
  {
   "cell_type": "code",
   "execution_count": 10,
   "metadata": {},
   "outputs": [
    {
     "data": {
      "text/plain": [
       "(array([991, 982, 412,  36, 218, 352,  56, 633, 342, 292]),\n",
       " array([758, 764, 182, 270, 496,  74, 274, 851, 124,  14]))"
      ]
     },
     "execution_count": 10,
     "metadata": {},
     "output_type": "execute_result"
    }
   ],
   "source": [
    "X, Y"
   ]
  },
  {
   "cell_type": "code",
   "execution_count": 12,
   "metadata": {},
   "outputs": [],
   "source": [
    "zip??"
   ]
  },
  {
   "cell_type": "code",
   "execution_count": 35,
   "metadata": {},
   "outputs": [
    {
     "name": "stdout",
     "output_type": "stream",
     "text": [
      "When X is 1010001100, Y is 1110100111\n",
      "When X is 0110010010, Y is 0010111000\n",
      "When X is 1000101111, Y is 1100000101\n",
      "When X is 0000001001, Y is 0100100011\n",
      "When X is 0111111111, Y is 0011010101\n",
      "When X is 0000001000, Y is 0100100010\n",
      "When X is 1011011100, Y is 1111110110\n",
      "When X is 0001011000, Y is 0101110010\n",
      "When X is 1001010010, Y is 1101111000\n",
      "When X is 0000001101, Y is 0100100111\n"
     ]
    }
   ],
   "source": [
    "for x, y in zip(X, Y):\n",
    "    print('When X is {0:010b}, Y is {1:010b}'.format(x, y))\n",
    "\n",
    "# zip(X,Y) creates tuples of X value and Y value\n",
    "# This was converted into binary (for some reason?)"
   ]
  },
  {
   "cell_type": "markdown",
   "metadata": {},
   "source": [
    "We have two columns an X column and a Y column (so two binary number for each sample). We know that we can calculate many summary statistics for each of these columns: mean, median, max. We could even calculate the dependence of these two columns with their correlation. \n",
    "\n",
    "But what if somebody told you that there was a relationship between these two columns that was more complex than just correlation (a very important assumption in ML - a pattern exists). Well there should be two questions that immediately pop into mind:\n",
    "\n",
    "1. What is this pattern?\n",
    "2. Prove it?\n",
    "\n",
    "Let's go ahead and answer these two questions in class today."
   ]
  },
  {
   "cell_type": "markdown",
   "metadata": {},
   "source": [
    "# Finding patterns\n",
    "\n",
    "Our first quesiton is: can we find the pattern (even if you knew it existed)? The old way to do this would be to look at point after point and try to use a human brain to find a pattern. The problem with this is twofold:\n",
    "\n",
    "1. There can be millions of points  \n",
    "2. Sometimes people can see the pattern but not be able to write it down because it is so complex\n",
    "\n",
    "Both of these issues are an issues of scale. One person can't look at every wikapedia article and one person could not write down all the series of patterns their brain used to recognize a cat.\n",
    "\n",
    "So in good old human spirit, maybe we can push off a some of the work to a computer to do it for us!"
   ]
  },
  {
   "cell_type": "markdown",
   "metadata": {},
   "source": [
    "# What are computers good at?\n",
    "\n",
    "If we are going to be pushing off work to a computer, we should understand what computers are good at, so we just give them the work they are good at and we do the rest of the work ourselves. So what are computers good at? It turns out they are only really good at one thing: doing tons of simple operations really fast. \n",
    "\n",
    "So how does that help us? Well maybe the computer can try out each possible pattern on the dataset and return the best one? But we are again in a pickle:\n",
    "\n",
    "1. Which pattern is best?\n",
    "2. What if there are a lot of patterns?\n",
    "\n",
    "Well this first problem is easily solved: the best pattern is the one that best matches our data. We simply look at the data and see how many samples match the pattern (divided by the total number of samples). We call this measure accuracy.\n",
    "\n",
    "The second problem is more difficult. The problem is that there are any number of possible relationships in the data. Maybe it turns out that column X is related to column Y by hashing the results 100k times. This would be an immeasurably complex relationship. If we wanted to check all of such relationships and see which is best, we would spend an infinitely infinite amount of time.\n",
    "\n",
    "So how do we narrow the search?\n",
    "\n",
    "Well it turns out we can combine the human brain and the computer by dividing the problem appropriately"
   ]
  },
  {
   "cell_type": "markdown",
   "metadata": {},
   "source": [
    "# The Hypothesis Set\n",
    "\n",
    "So here is the plan. We will use the massive compute and blinding speeds of a computer to search accross as many patterns as possible, looking for the true relationship in the data. The computer will find the best pattern (the one that best matches the data) and return it. All we need to do is to tell the computer which patterns it should look through. \n",
    "\n",
    "Let's go ahead and do this exact approach for the data above:"
   ]
  },
  {
   "cell_type": "code",
   "execution_count": 13,
   "metadata": {},
   "outputs": [
    {
     "name": "stdout",
     "output_type": "stream",
     "text": [
      "When X is 1111011111, Y is 1011110110\n",
      "When X is 1111010110, Y is 1011111100\n",
      "When X is 0110011100, Y is 0010110110\n",
      "When X is 0000100100, Y is 0100001110\n",
      "When X is 0011011010, Y is 0111110000\n",
      "When X is 0101100000, Y is 0001001010\n",
      "When X is 0000111000, Y is 0100010010\n",
      "When X is 1001111001, Y is 1101010011\n",
      "When X is 0101010110, Y is 0001111100\n",
      "When X is 0100100100, Y is 0000001110\n"
     ]
    }
   ],
   "source": [
    "for x, y in zip(X, Y):\n",
    "    print('When X is {0:010b}, Y is {1:010b}'.format(x, y))"
   ]
  },
  {
   "cell_type": "markdown",
   "metadata": {},
   "source": [
    "First step is to narrow down on the patterns that we want to look for. Let's look at the first digit from the X and Y binarys above. I looks like every time the X is 1, the first digit of Y is 1. And for the second digit every time the X value is 1 the Y value is 0. \n",
    "\n",
    "So there does seem to be some clear patterns here, though we are not entirely sure what. But what we can do is narrow the search space of our computer. \n",
    "\n",
    "We will tell the computer: instead of looking through all patterns, look through all patterns where the digits in Y are simply dependent on their corresponding digit in X.\n",
    "\n",
    "I can write one such pattern this way:"
   ]
  },
  {
   "cell_type": "code",
   "execution_count": 14,
   "metadata": {},
   "outputs": [
    {
     "data": {
      "text/plain": [
       "'X: 1111011111 and the flip 0000100000'"
      ]
     },
     "execution_count": 14,
     "metadata": {},
     "output_type": "execute_result"
    }
   ],
   "source": [
    "# this is the flip all the bits pattern\n",
    "'X: {0:010b} and the flip {1:010b}'.format(X[0], X[0] ^ 0b11111_11111)"
   ]
  },
  {
   "cell_type": "markdown",
   "metadata": {},
   "source": [
    "So ultimately the computer will need to look through all binary strings that are 10 digits long. So here is the Hypothesis space:"
   ]
  },
  {
   "cell_type": "code",
   "execution_count": 24,
   "metadata": {},
   "outputs": [
    {
     "data": {
      "text/plain": [
       "'0b1111111111'"
      ]
     },
     "execution_count": 24,
     "metadata": {},
     "output_type": "execute_result"
    }
   ],
   "source": [
    "hypothesis_set = np.arange(1024) # this hypothesis set is an array of all numbers from 1 - 1024 excluding the last number\n",
    "bin(hypothesis_set[-1]) # This converts the last number in the hypothesis_set into a binary which is printed below\n"
   ]
  },
  {
   "cell_type": "markdown",
   "metadata": {},
   "source": [
    "# The Learning Algorithm\n",
    "\n",
    "The next step in our process is called the learning algorithm, this is the algorithm that will find the best hypothesis. In our case, it will be the simplest one: look through all the hypotheses (patterns) in the hypothesis set. We will then test each hypothesis and see how accurate it is on the data. In this way we will find the best one!"
   ]
  },
  {
   "cell_type": "code",
   "execution_count": 26,
   "metadata": {},
   "outputs": [],
   "source": [
    "def learning_alg(X, Y, hypothesis_set):\n",
    "    best_hypo = None\n",
    "    \n",
    "    # for each hypo in the set\n",
    "    for hypothesis in hypothesis_set:\n",
    "        num_correct = 0.\n",
    "        num_wrong = 0.\n",
    "        \n",
    "        # check the accuracy\n",
    "        for x, y in zip(X, Y):\n",
    "            if x ^ hypothesis == y:\n",
    "                num_correct += 1\n",
    "            else:\n",
    "                num_wrong += 1\n",
    "        \n",
    "        # and if it is more accurate, save it\n",
    "        accuracy = num_correct / (num_correct + num_wrong)\n",
    "        if best_hypo is None or best_hypo[0] < accuracy:\n",
    "            best_hypo = accuracy, hypothesis\n",
    "            \n",
    "    return best_hypo"
   ]
  },
  {
   "cell_type": "markdown",
   "metadata": {},
   "source": [
    "Pretty simple, just look the the hypotheses and return the best one."
   ]
  },
  {
   "cell_type": "markdown",
   "metadata": {},
   "source": [
    "# The final hypothesis\n",
    "\n",
    "This best hypothesis is the one that you ultimately return, aka the best hypothesis, and the one that you beleive is closest to the true pattern in your data, let's look to see if we got the right one below:"
   ]
  },
  {
   "cell_type": "code",
   "execution_count": 28,
   "metadata": {},
   "outputs": [
    {
     "data": {
      "text/plain": [
       "'Our final hypotheis is to xor X with this 0100101010 binary string for an accuracy of 0.9'"
      ]
     },
     "execution_count": 28,
     "metadata": {},
     "output_type": "execute_result"
    }
   ],
   "source": [
    "acc, final_hypothesis = learning_alg(X, Y, hypothesis_set)\n",
    "\n",
    "# acc and final_hypothesis are tuples, the above function will give you two arrays. One array of the accuracy and a second array of the final_hypothesis\n",
    "\n",
    "'Our final hypotheis is to xor X with this {:010b} binary string for an accuracy of {}'.format(final_hypothesis, acc)"
   ]
  },
  {
   "cell_type": "code",
   "execution_count": 30,
   "metadata": {},
   "outputs": [
    {
     "name": "stdout",
     "output_type": "stream",
     "text": [
      "When X is 1111011111, our pattern would predict: 1111011111, and Y is 1011110101\n",
      "When X is 1111010110, our pattern would predict: 1111010110, and Y is 1011111100\n",
      "When X is 0110011100, our pattern would predict: 0110011100, and Y is 0010110110\n",
      "When X is 0000100100, our pattern would predict: 0000100100, and Y is 0100001110\n",
      "When X is 0011011010, our pattern would predict: 0011011010, and Y is 0111110000\n",
      "When X is 0101100000, our pattern would predict: 0101100000, and Y is 0001001010\n",
      "When X is 0000111000, our pattern would predict: 0000111000, and Y is 0100010010\n",
      "When X is 1001111001, our pattern would predict: 1001111001, and Y is 1101010011\n",
      "When X is 0101010110, our pattern would predict: 0101010110, and Y is 0001111100\n",
      "When X is 0100100100, our pattern would predict: 0100100100, and Y is 0000001110\n"
     ]
    }
   ],
   "source": [
    "# let's check to see if it works\n",
    "for x, y in zip(X, Y):\n",
    "    print('When X is {0:010b}, our pattern would predict: {0:010b}, and Y is {1:010b}'.format(x, x ^ final_hypothesis, y))"
   ]
  },
  {
   "cell_type": "code",
   "execution_count": 32,
   "metadata": {
    "scrolled": true
   },
   "outputs": [
    {
     "data": {
      "text/plain": [
       "True"
      ]
     },
     "execution_count": 32,
     "metadata": {},
     "output_type": "execute_result"
    }
   ],
   "source": [
    "final_hypothesis == secret_pattern"
   ]
  },
  {
   "cell_type": "code",
   "execution_count": 43,
   "metadata": {},
   "outputs": [
    {
     "name": "stdout",
     "output_type": "stream",
     "text": [
      "298\n"
     ]
    }
   ],
   "source": [
    "print(final_hypothesis)"
   ]
  },
  {
   "cell_type": "markdown",
   "metadata": {},
   "source": [
    "# Machine Learning\n",
    "\n",
    "So what did we just do? We just did something that could be called automated pattern finding, or more commonly called machine learning. \n",
    "\n",
    "We inadvertently made some assumptions along the way about how machine learning is done, but now that we have a feel for it, let's specify how we find patterns from data.\n",
    "\n",
    "For machine learning to work, you need a couple of statements to be true about your problem:\n",
    "\n",
    "* A pattern exists\n",
    "* We cannot pin the pattern down mathematically\n",
    "* We have data on it\n",
    "\n",
    "If these statements are true then we should think about doing machine learning. If no pattern exists, then what we are trying to predict is completely random, we can't do it. If we can pin it down mathematically, then we should just do that. If we don't have data on it, well back to the drawing board.\n",
    "\n",
    "That certainly gives us intuition about the assumptions we will need, but let's formalize them below:"
   ]
  },
  {
   "cell_type": "code",
   "execution_count": 69,
   "metadata": {},
   "outputs": [],
   "source": [
    "import networkx as nx\n",
    "from nxpd import draw\n",
    "from nxpd import nxpdParams\n",
    "nxpdParams['show'] = 'ipynb'\n",
    "\n",
    "c0 = 'Unknown target function, f(X) = y'\n",
    "c1 = 'Inputs, (x_1, y_1), ..., (x_n, y_n)'\n",
    "c2 = 'Learning Algorithm'\n",
    "c3 = 'Hypothesis set, H'\n",
    "c4 = 'Final Hypothesis, g(X) = y'\n",
    "c5 = 'IID samples from a r.v. X'\n",
    "\n",
    "G = nx.DiGraph()\n",
    "G.add_node(c0)\n",
    "G.add_node(c1)\n",
    "G.add_edge(c0, c1)\n",
    "G.add_node(c2)\n",
    "G.add_edge(c1, c2)\n",
    "G.add_node(c3)\n",
    "G.add_edge(c3, c2)\n",
    "G.add_node(c4)\n",
    "G.add_edge(c2, c4)\n",
    "G.add_node(c5)\n",
    "G.add_edge(c5, c1)"
   ]
  },
  {
   "cell_type": "code",
   "execution_count": 70,
   "metadata": {},
   "outputs": [
    {
     "data": {
      "image/png": "[encoded data removed]",
      "text/plain": [
       "<IPython.core.display.Image object>"
      ]
     },
     "execution_count": 70,
     "metadata": {},
     "output_type": "execute_result"
    }
   ],
   "source": [
    "draw(G)"
   ]
  },
  {
   "cell_type": "markdown",
   "metadata": {},
   "source": [
    "Okay, let's discuss what is happening above.\n",
    "\n",
    "First we assume that there is some real pattern out there called f (notice in our above example we artificially created it). This pattern is the one that generates the y part of the data from the x part. So in physics this is easy to grasp: you drop a ball and you measure how hard it hits the ground. In this case there is some function that takes the mass of the ball and the height which the ball was dropped from and will spit back a force.\n",
    "\n",
    "\n",
    "The next assumption is one that we have already seen, we have data. The difference here is that we actually have something along with the data, the output of f. Notice that the inputs now depend on f. \n",
    "\n",
    "As always we still have the IID samples assumption (we will use that in a bit to answer the second part of the question we had). Above we just generated uniformly random numbers, so this checks out.\n",
    "\n",
    "The next thing we should look at is H, the hypothesis set. This is the set of all hypotheses that our computer is going to look through. What is very important here is that humans determine this step! Above our hypothesis set is the set of all xor functions.\n",
    "\n",
    "Now both the data and the hypothesis set are sent to the learning algorithm to choose the best hypothesis to return. We just used exhaustive search.\n",
    "\n",
    "And then finally we return the best hypothesis, which we call the final hypothesis. This is the hypothesis that the ML algorithm will return to you in the end.\n",
    "\n",
    "The point of the entire process is to return a g that is as close as possible to f. Or functional approximation."
   ]
  },
  {
   "cell_type": "markdown",
   "metadata": {},
   "source": [
    "# Prove it!\n",
    "\n",
    "Our second question to ask ourselves is: does this pattern we found really exist? \n",
    "\n",
    "At this point you might be like, \"Hold on, we just searched through all of the data, of course the pattern exists!\"\n",
    "\n",
    "The problem is: does this pattern exist in the data you have not seen before? Aka, does this pattern genralize?\n",
    "\n",
    "---\n",
    "\n",
    "Well let's ask ourselves how we know that this pattern works on our data that we have. Well we found the accuracy on the sample data. Well what if we were able to find the pattern's accuracy on the population data, aka infinite samples. Then if it were high enough we would beleive that it actually exists. Well unfortunately we are looking to find a funciton of the population, but we only have the sample...\n",
    "\n",
    "Well I hope you see the answer to this one: the plug in principle and confidence intervals! Let's do it below:"
   ]
  },
  {
   "cell_type": "code",
   "execution_count": 48,
   "metadata": {
    "scrolled": true
   },
   "outputs": [
    {
     "data": {
      "text/plain": [
       "<matplotlib.axes._subplots.AxesSubplot at 0x108f06320>"
      ]
     },
     "execution_count": 48,
     "metadata": {},
     "output_type": "execute_result"
    },
    {
     "data": {
      "image/png": "[encoded data removed]",
      "text/plain": [
       "<Figure size 432x288 with 1 Axes>"
      ]
     },
     "metadata": {},
     "output_type": "display_data"
    }
   ],
   "source": [
    "right_or_not = []\n",
    "\n",
    "for x, y in zip(X, Y):\n",
    "    right_or_not.append(x ^ final_hypothesis == y)\n",
    "    \n",
    "sns.pointplot(right_or_not)"
   ]
  },
  {
   "cell_type": "code",
   "execution_count": 49,
   "metadata": {},
   "outputs": [
    {
     "name": "stdout",
     "output_type": "stream",
     "text": [
      "x=  292\n",
      "y=  14\n",
      "X=  [991 982 412  36 218 352  56 633 342 292]\n",
      "Y=  [758 764 182 270 496  74 274 851 124  14]\n",
      "final_hypothesis=  298\n",
      "right_or_not =  [False, True, True, True, True, True, True, True, True, True]\n"
     ]
    }
   ],
   "source": [
    "print('x= ', x) #last x in the iterable\n",
    "print('y= ', y) #last y in the iterable\n",
    "print('X= ', X)\n",
    "print('Y= ', Y)\n",
    "print('final_hypothesis= ', final_hypothesis)\n",
    "print('right_or_not = ', right_or_not)"
   ]
  },
  {
   "cell_type": "markdown",
   "metadata": {},
   "source": [
    "Looks like we can be pretty confident that there is a pattern :)"
   ]
  },
  {
   "cell_type": "markdown",
   "metadata": {},
   "source": [
    "## Next time\n",
    "\n",
    "You might have already seen the problem with what we are currently doing, but next time we will explore the problem of finding the perfect hypothesis, and estimating it's efficacy on the population."
   ]
  },
  {
   "cell_type": "markdown",
   "metadata": {},
   "source": [
    "## Learning Objective\n",
    "\n",
    "Today we are going to focus on two questions:\n",
    "\n",
    "1. How can we automatically find patterns?\n",
    "2. How can we prove a pattern exists once we find it?\n",
    "\n",
    "Both of these questions turn out to be crucial for doing machine learning, and we will "
   ]
  },
  {
   "cell_type": "markdown",
   "metadata": {},
   "source": [
    "## Comprehension Questions\n",
    "\n",
    "1.\tCan all learning problems be expressed as a function?\n",
    "2.\tIf you wanted to learn to make programs that sort numbers what would the ingredients to the machine learning graph be?\n",
    "    - A pattern exists\n",
    "    - we cannot pin the pattern down mathematically\n",
    "    - We have data\n",
    "    \n",
    "    - Unknown Target Function:\n",
    "    - IID random samples:\n",
    "    - Inputs:\n",
    "    - Hypotheses:\n",
    "    - Finaly hypothesis:\n",
    "    \n",
    "5.\tIf you have seen the input before, you know what the output should be, right?\n",
    "1. If you assume the pattern is deterministic, what hypothesis pattern could you propose that would always have 100% accuracy?\n",
    "1. What happens if the true hypothesis is not in your hypothesis set? What do you return?\n",
    "1. How do you choose your hypothesis set?\n",
    "1. Is there a smarter learning algorithm for the problem above?\n",
    "1. Do all of the features for a particular sample need to be collected at the same time? What does this tell us about the power of some of the patterns we find? \n",
    "1. Are there other functions on patterns of data other than accuracy that we might be interested in? Why?\n",
    "1. How would you figure out how much data you would need to get a good confidence interval for a prediction problem? "
   ]
  },
  {
   "cell_type": "code",
   "execution_count": null,
   "metadata": {},
   "outputs": [],
   "source": []
  }
 ],
 "metadata": {
  "kernelspec": {
   "display_name": "Python 3",
   "language": "python",
   "name": "python3"
  },
  "language_info": {
   "codemirror_mode": {
    "name": "ipython",
    "version": 3
   },
   "file_extension": ".py",
   "mimetype": "text/x-python",
   "name": "python",
   "nbconvert_exporter": "python",
   "pygments_lexer": "ipython3",
   "version": "3.6.5"
  }
 },
 "nbformat": 4,
 "nbformat_minor": 2
}
