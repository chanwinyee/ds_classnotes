{
 "cells": [
  {
   "cell_type": "markdown",
   "metadata": {
    "slideshow": {
     "slide_type": "slide"
    }
   },
   "source": [
    "# Learning objectives\n",
    "\n",
    "Today we learn about data distributions.\n",
    "\n",
    "We will learn to visualize data to investigate the four main characteristics: Center, Spread, Dependence, and Shape. These tools include: rug plots, histograms, kde plots, box plots and scatter plots.\n",
    "\n",
    "And we will finish off by explaining how we describe the shape of data."
   ]
  },
  {
   "cell_type": "markdown",
   "metadata": {},
   "source": [
    "# Why Visualize\n",
    "This may seem obvious to you, and if it does then you are probably a visual person. For those who think this question should be asked, you have my empathy. Generally speaking visuals just don't help me understand the material better. \n",
    "\n",
    "So why visualize?\n"
   ]
  },
  {
   "cell_type": "markdown",
   "metadata": {
    "slideshow": {
     "slide_type": "subslide"
    }
   },
   "source": [
    "Well it turns out that most people are visual people, so in presentations and essays, visuals help out. But the second reason is something we will talk a lot about in data science. In data science it is important to check your results, and one of the ways that you do this is by taking two different approaches to the same problem. If they both match up, then you can feel that much better about the results. And if they don't then it can lead you to cool discoveries.\n",
    "\n",
    "Visualization can therefore help out in a ton of ways:\n",
    "\n",
    "1. Checking for outliers\n",
    "2. Better understanding the distribution of a feature\n",
    "3. Understand how features relate to each other\n",
    "4. etc.\n",
    "\n",
    "You might be asking yourself, wait we just learned that summary statistics can do this too. But remember, two ways are better than one. Summary statistics can point to obvious problems but subtle ones generally pop up better with visualizatons."
   ]
  },
  {
   "cell_type": "markdown",
   "metadata": {
    "slideshow": {
     "slide_type": "slide"
    }
   },
   "source": [
    "## Assumptions\n",
    "\n",
    "As always, we will start off with our assumptions:"
   ]
  },
  {
   "cell_type": "code",
   "execution_count": 18,
   "metadata": {
    "slideshow": {
     "slide_type": "fragment"
    }
   },
   "outputs": [
    {
     "ename": "ModuleNotFoundError",
     "evalue": "No module named 'nxpd'",
     "output_type": "error",
     "traceback": [
      "\u001b[0;31m-----------------------------------------------------------------\u001b[0m",
      "\u001b[0;31mModuleNotFoundError\u001b[0m             Traceback (most recent call last)",
      "\u001b[0;32m<ipython-input-18-478799b4ce57>\u001b[0m in \u001b[0;36m<module>\u001b[0;34m()\u001b[0m\n\u001b[1;32m      1\u001b[0m \u001b[0;32mimport\u001b[0m \u001b[0mnetworkx\u001b[0m \u001b[0;32mas\u001b[0m \u001b[0mnx\u001b[0m\u001b[0;34m\u001b[0m\u001b[0m\n\u001b[0;32m----> 2\u001b[0;31m \u001b[0;32mfrom\u001b[0m \u001b[0mnxpd\u001b[0m \u001b[0;32mimport\u001b[0m \u001b[0mdraw\u001b[0m\u001b[0;34m\u001b[0m\u001b[0m\n\u001b[0m\u001b[1;32m      3\u001b[0m \u001b[0;32mfrom\u001b[0m \u001b[0mnxpd\u001b[0m \u001b[0;32mimport\u001b[0m \u001b[0mnxpdParams\u001b[0m\u001b[0;34m\u001b[0m\u001b[0m\n\u001b[1;32m      4\u001b[0m \u001b[0mnxpdParams\u001b[0m\u001b[0;34m[\u001b[0m\u001b[0;34m'show'\u001b[0m\u001b[0;34m]\u001b[0m \u001b[0;34m=\u001b[0m \u001b[0;34m'ipynb'\u001b[0m\u001b[0;34m\u001b[0m\u001b[0m\n\u001b[1;32m      5\u001b[0m \u001b[0;34m\u001b[0m\u001b[0m\n",
      "\u001b[0;31mModuleNotFoundError\u001b[0m: No module named 'nxpd'"
     ]
    }
   ],
   "source": [
    "import networkx as nx\n",
    "from nxpd import draw\n",
    "from nxpd import nxpdParams\n",
    "nxpdParams['show'] = 'ipynb'\n",
    "\n",
    "G = nx.DiGraph()\n",
    "G.add_node('Inputs (x_1, x_2, ..., x_n)')\n",
    "draw(G)"
   ]
  },
  {
   "cell_type": "markdown",
   "metadata": {
    "slideshow": {
     "slide_type": "subslide"
    }
   },
   "source": [
    "Pretty simple, it's the same as last time. We just have the data. So speaking of data, let's get some:"
   ]
  },
  {
   "cell_type": "code",
   "execution_count": 19,
   "metadata": {
    "slideshow": {
     "slide_type": "fragment"
    }
   },
   "outputs": [],
   "source": [
    "data = {\n",
    "    'quantitative1': [1, 4, 6, 10, 15, 16],\n",
    "    'quantitative2': [4, 6, 12, 13, 16, 19],\n",
    "    'qualitative': ['red', 'blue', 'red', 'blue', 'yellow', 'red']\n",
    "}"
   ]
  },
  {
   "cell_type": "markdown",
   "metadata": {
    "slideshow": {
     "slide_type": "slide"
    }
   },
   "source": [
    "## Distribution What?\n",
    "\n",
    "I used an odd word before, perhaps one that you have not seen before, it's distribution. Data scientists often talk about how the data is distributed or what its distribution is. What they mean to talk about is how the data is placed along the number line. Sometimes the data is placed in such a way that it is spread out. Other times it is placed such that it is very concentrated or has some points that are placed that are a lot more positive than other points. In fact data does not have to be just placed along the number line. It can be placed in the cartesian plane or even in three dims!"
   ]
  },
  {
   "cell_type": "markdown",
   "metadata": {
    "slideshow": {
     "slide_type": "slide"
    }
   },
   "source": [
    "## Plotting the distribution\n",
    "\n",
    "What would be the best way to visualize our data? Well simply put, it would be to show what our data looks like! A bit too obvious right. But how would this look? If we were trying to visualize a single feature one way to do it would be to use a rug plot:"
   ]
  },
  {
   "cell_type": "code",
   "execution_count": 20,
   "metadata": {
    "slideshow": {
     "slide_type": "subslide"
    }
   },
   "outputs": [
    {
     "data": {
      "text/plain": [
       "<matplotlib.axes._subplots.AxesSubplot at 0x1a1dffe8d0>"
      ]
     },
     "execution_count": 20,
     "metadata": {},
     "output_type": "execute_result"
    },
    {
     "data": {
      "image/png": "[encoded data removed]",
      "text/plain": [
       "<Figure size 432x288 with 1 Axes>"
      ]
     },
     "metadata": {},
     "output_type": "display_data"
    }
   ],
   "source": [
    "%matplotlib inline\n",
    "import seaborn as sns\n",
    "\n",
    "sns.rugplot(data['quantitative1'])"
   ]
  },
  {
   "cell_type": "markdown",
   "metadata": {
    "slideshow": {
     "slide_type": "fragment"
    }
   },
   "source": [
    "Do you see it? This is your first chance to view a distribution (how your data points are distributed/placed over the range of your data). Looking at the distribution can tell you a lot about it. Max, min, where the data is centered, and so on. At each datapoint we put a little tickmark. It is like putting our data points on a number line. You can understand that this will easily fail when we have more than a couple of points. The ticks will overlap, they will be hard to see, etc. To get around this we can use another visualization of a distribution called a histogram:"
   ]
  },
  {
   "cell_type": "code",
   "execution_count": 34,
   "metadata": {
    "slideshow": {
     "slide_type": "subslide"
    }
   },
   "outputs": [
    {
     "name": "stderr",
     "output_type": "stream",
     "text": [
      "/anaconda3/lib/python3.6/site-packages/matplotlib/axes/_axes.py:6462: UserWarning: The 'normed' kwarg is deprecated, and has been replaced by the 'density' kwarg.\n",
      "  warnings.warn(\"The 'normed' kwarg is deprecated, and has been \"\n"
     ]
    },
    {
     "data": {
      "text/plain": [
       "<matplotlib.axes._subplots.AxesSubplot at 0x1a1eaf0780>"
      ]
     },
     "execution_count": 34,
     "metadata": {},
     "output_type": "execute_result"
    },
    {
     "data": {
      "image/png": "[encoded data removed]",
      "text/plain": [
       "<Figure size 432x288 with 1 Axes>"
      ]
     },
     "metadata": {},
     "output_type": "display_data"
    }
   ],
   "source": [
    "sns.distplot(data['quantitative1'], bins=10, hist=True, kde=False)"
   ]
  },
  {
   "cell_type": "markdown",
   "metadata": {
    "slideshow": {
     "slide_type": "fragment"
    }
   },
   "source": [
    "This is another way to visualize what your data looks like. On the x axis we have the number that represents your data point. And on the y axis we have the count of the data points that fall within the bins. This can give a an awesome feel for where the data is. It can point out outliers, show where the data is centered, and show how the data is spread."
   ]
  },
  {
   "cell_type": "markdown",
   "metadata": {
    "slideshow": {
     "slide_type": "subslide"
    }
   },
   "source": [
    "There is one more common way to visualize the distribution of your data, this is called a KDE (kernel density estimation). Think of it like a smooth histogram. If you are curious how it is constructed you should check out my other video [here](https://www.youtube.com/watch?v=-Lt7kpTM-v8&index=4&list=PLgJhDSE2ZLxYlhQx0UfVlnF1F7OWF-9rp)"
   ]
  },
  {
   "cell_type": "code",
   "execution_count": 22,
   "metadata": {
    "slideshow": {
     "slide_type": "fragment"
    }
   },
   "outputs": [
    {
     "data": {
      "text/plain": [
       "<matplotlib.axes._subplots.AxesSubplot at 0x1a1e20e320>"
      ]
     },
     "execution_count": 22,
     "metadata": {},
     "output_type": "execute_result"
    },
    {
     "data": {
      "image/png": "[encoded data removed]",
      "text/plain": [
       "<Figure size 432x288 with 1 Axes>"
      ]
     },
     "metadata": {},
     "output_type": "display_data"
    }
   ],
   "source": [
    "import numpy as np\n",
    "\n",
    "sns.kdeplot(np.array(data['quantitative1']))\n",
    "\n",
    "# This is a smoothed histogram\n",
    "# Adds a mini-normal distribution on the histogram\n",
    "# Notice the X axis has negative numbers\n",
    "# Takes each data point, calculates the normal cuve, then adds them together assuming the area under the curve is 1\n",
    "# this shows a probability distribution, where the data may lay even if you don't have an actual data point there"
   ]
  },
  {
   "cell_type": "markdown",
   "metadata": {
    "slideshow": {
     "slide_type": "subslide"
    }
   },
   "source": [
    "And of course, you can do all three:"
   ]
  },
  {
   "cell_type": "code",
   "execution_count": 23,
   "metadata": {
    "slideshow": {
     "slide_type": "fragment"
    }
   },
   "outputs": [
    {
     "name": "stderr",
     "output_type": "stream",
     "text": [
      "/anaconda3/lib/python3.6/site-packages/matplotlib/axes/_axes.py:6462: UserWarning: The 'normed' kwarg is deprecated, and has been replaced by the 'density' kwarg.\n",
      "  warnings.warn(\"The 'normed' kwarg is deprecated, and has been \"\n"
     ]
    },
    {
     "data": {
      "text/plain": [
       "<matplotlib.axes._subplots.AxesSubplot at 0x1a1e2bcda0>"
      ]
     },
     "execution_count": 23,
     "metadata": {},
     "output_type": "execute_result"
    },
    {
     "data": {
      "image/png": "[encoded data removed]",
      "text/plain": [
       "<Figure size 432x288 with 1 Axes>"
      ]
     },
     "metadata": {},
     "output_type": "display_data"
    }
   ],
   "source": [
    "sns.distplot(data['quantitative1'], bins=5, hist=True, kde=True)\n",
    "sns.rugplot(data['quantitative1'])\n",
    "\n",
    "# the y axis is different; it's become normalized"
   ]
  },
  {
   "cell_type": "code",
   "execution_count": 24,
   "metadata": {},
   "outputs": [],
   "source": [
    "sns.distplot??"
   ]
  },
  {
   "cell_type": "markdown",
   "metadata": {
    "slideshow": {
     "slide_type": "subslide"
    }
   },
   "source": [
    "The final way that you can visualize a distribution is by using a box plot. This is a bit different from the other ways that we have used before:"
   ]
  },
  {
   "cell_type": "code",
   "execution_count": 25,
   "metadata": {
    "slideshow": {
     "slide_type": "subslide"
    }
   },
   "outputs": [
    {
     "data": {
      "text/plain": [
       "<matplotlib.axes._subplots.AxesSubplot at 0x1a1e384d68>"
      ]
     },
     "execution_count": 25,
     "metadata": {},
     "output_type": "execute_result"
    },
    {
     "data": {
      "image/png": "[encoded data removed]",
      "text/plain": [
       "<Figure size 432x288 with 1 Axes>"
      ]
     },
     "metadata": {},
     "output_type": "display_data"
    }
   ],
   "source": [
    "sns.boxplot(data['quantitative1'])"
   ]
  },
  {
   "cell_type": "markdown",
   "metadata": {
    "slideshow": {
     "slide_type": "fragment"
    }
   },
   "source": [
    "There are a couple of things to pay attention to here. First is the solid line in the center, this is the median. The box covers the inner quartiles (going from the end of the first quartile to the end of third quartile). The \"whiskers\" or the lines on the far right and left are either 2 or 1.5 inner quartile ranges (the span of one quartile). Any points outside the whiskers will be plotted as well.\n",
    "\n",
    "These are just a couple of tools to do this, there are plenty more! So if you are interested check out: [Seaborn Understanding the Weird Parts](https://www.youtube.com/watch?v=fWuPIGVPo7o&list=PLgJhDSE2ZLxYlhQx0UfVlnF1F7OWF-9rp)"
   ]
  },
  {
   "cell_type": "markdown",
   "metadata": {
    "slideshow": {
     "slide_type": "slide"
    }
   },
   "source": [
    "## Visualizing multiple distributions\n",
    "\n",
    "Often times you will have a couple of features that you will want to visualize. You can visualize them separately, but often by visualizing them together you can gain more insights.\n",
    "\n",
    "The common way to do this is with a simple scatterplot:"
   ]
  },
  {
   "cell_type": "code",
   "execution_count": 26,
   "metadata": {
    "slideshow": {
     "slide_type": "subslide"
    }
   },
   "outputs": [
    {
     "name": "stderr",
     "output_type": "stream",
     "text": [
      "/anaconda3/lib/python3.6/site-packages/matplotlib/axes/_axes.py:6462: UserWarning: The 'normed' kwarg is deprecated, and has been replaced by the 'density' kwarg.\n",
      "  warnings.warn(\"The 'normed' kwarg is deprecated, and has been \"\n",
      "/anaconda3/lib/python3.6/site-packages/matplotlib/axes/_axes.py:6462: UserWarning: The 'normed' kwarg is deprecated, and has been replaced by the 'density' kwarg.\n",
      "  warnings.warn(\"The 'normed' kwarg is deprecated, and has been \"\n"
     ]
    },
    {
     "data": {
      "text/plain": [
       "<seaborn.axisgrid.JointGrid at 0x1a1e447ba8>"
      ]
     },
     "execution_count": 26,
     "metadata": {},
     "output_type": "execute_result"
    },
    {
     "data": {
      "image/png": "[encoded data removed]",
      "text/plain": [
       "<Figure size 432x432 with 3 Axes>"
      ]
     },
     "metadata": {},
     "output_type": "display_data"
    }
   ],
   "source": [
    "sns.jointplot(\n",
    "    np.array(data['quantitative1']), \n",
    "    np.array(data['quantitative2']))"
   ]
  },
  {
   "cell_type": "markdown",
   "metadata": {
    "slideshow": {
     "slide_type": "subslide"
    }
   },
   "source": [
    "We get so many goodies with this one. Again we just put a little mark for each datapoint we have on the cartesian plane. But we can clearly see a trend in the data. If one feature/dimension is large, the other is likely large as well. We could have guessed this from the correlation (seen in the upper left hand corner)"
   ]
  },
  {
   "cell_type": "markdown",
   "metadata": {
    "slideshow": {
     "slide_type": "slide"
    }
   },
   "source": [
    "## The Shape of data\n",
    "\n",
    "Remember, there are four things that these visualizations are helping us look for:\n",
    "\n",
    "1. Center\n",
    "2. Spread\n",
    "3. Dependence\n",
    "4. Shape\n",
    "\n",
    "We have talked about the first three, and hopefully you know how to tell where the center is (mean, median, look at a histogram or a boxplot, etc.), you know how to tell how spread out the data is (standard deviation, look at a KDE plot or a boxplot, etc.), you know how to check the dependence of multiple factors (look at a correlation matrix or a scatter plot, etc.). \n",
    "\n",
    "But you probably don't know what we mean when we say shape. So as the final part of our visual exploration, let's explore skewness and kurtosis. Let's look at two distributions:"
   ]
  },
  {
   "cell_type": "code",
   "execution_count": 32,
   "metadata": {
    "slideshow": {
     "slide_type": "subslide"
    }
   },
   "outputs": [
    {
     "data": {
      "text/plain": [
       "<matplotlib.axes._subplots.AxesSubplot at 0x1a1e9993c8>"
      ]
     },
     "execution_count": 32,
     "metadata": {},
     "output_type": "execute_result"
    },
    {
     "data": {
      "image/png": "[encoded data removed]",
      "text/plain": [
       "<Figure size 432x288 with 1 Axes>"
      ]
     },
     "metadata": {},
     "output_type": "display_data"
    }
   ],
   "source": [
    "center = np.random.normal(1, 1, size=100)\n",
    "rskew = np.random.gamma(1, size=100)\n",
    "\n",
    "sns.kdeplot(rskew)\n",
    "sns.kdeplot(center)"
   ]
  },
  {
   "cell_type": "markdown",
   "metadata": {
    "slideshow": {
     "slide_type": "fragment"
    }
   },
   "source": [
    "We have a blue and a green distribution (remember a smoothed histogram showing where the data points are). These distributions are different right? But how? You might not believe me, but the means of these two distributions are the same (in fact the area under these two curves are the same, 1).\n",
    "\n",
    "So how are they different? "
   ]
  },
  {
   "cell_type": "markdown",
   "metadata": {
    "slideshow": {
     "slide_type": "subslide"
    }
   },
   "source": [
    "Well one of these distributions fans out equally on both sides and the other one fans out only on one side (the right side). The blue one fans out on the right side and we call this distribution right skewed (or has positive skewness). This means that the blue data has some very large outliers! People also refer to these types of distributions (blue looking) as having a fat right tail. \n",
    "\n",
    "Now check out these two:"
   ]
  },
  {
   "cell_type": "code",
   "execution_count": 33,
   "metadata": {
    "slideshow": {
     "slide_type": "subslide"
    }
   },
   "outputs": [
    {
     "data": {
      "text/plain": [
       "<matplotlib.axes._subplots.AxesSubplot at 0x1a1ea50a58>"
      ]
     },
     "execution_count": 33,
     "metadata": {},
     "output_type": "execute_result"
    },
    {
     "data": {
      "image/png": "[encoded data removed]",
      "text/plain": [
       "<Figure size 432x288 with 1 Axes>"
      ]
     },
     "metadata": {},
     "output_type": "display_data"
    }
   ],
   "source": [
    "fat_tails = np.random.normal(1, 4, size=100)\n",
    "\n",
    "sns.kdeplot(fat_tails)\n",
    "sns.kdeplot(center)"
   ]
  },
  {
   "cell_type": "markdown",
   "metadata": {
    "slideshow": {
     "slide_type": "fragment"
    }
   },
   "source": [
    "We again have a blue and a green distribution. These distributions are different right? Again you might not believe me, but the means of these two distributions are the same (in fact the area under these two curves are the same, 1). How are these guys different.\n",
    "\n"
   ]
  },
  {
   "cell_type": "markdown",
   "metadata": {
    "slideshow": {
     "slide_type": "subslide"
    }
   },
   "source": [
    "But they are very different. One has a large spread of data and the other has a smaller one (the blue one has more kurtosis). \n",
    "\n",
    "Just so you get a feel for this, the blue one also has higher spread (a standard deviation of 4 instead of 1)"
   ]
  },
  {
   "cell_type": "markdown",
   "metadata": {
    "slideshow": {
     "slide_type": "slide"
    }
   },
   "source": [
    "## Why does all of this matter?\n",
    "\n",
    "Well this is the big question. We have our four properties that we are interested in: \n",
    "\n",
    "1. Center\n",
    "2. Spread\n",
    "3. Dependence\n",
    "4. Shape\n",
    "\n",
    "And now you have tools to measure these quantities. But why were we curious about them in the first place?\n",
    "\n",
    "Well as we progress in this class you will begin to understand why (as more about the weird world of data science is revealed to you). But unfortunately you also will just learn by experience. One great resource to give you a feel for these things (but perhaps only after we have advanced a bit more in the class) is [Data Talks](https://www.youtube.com/watch?v=4Aimp4i5M0c)\n"
   ]
  },
  {
   "cell_type": "markdown",
   "metadata": {
    "slideshow": {
     "slide_type": "slide"
    }
   },
   "source": [
    "## What's Next?\n",
    "\n",
    "Next up we will be expanding our assumptions a bit and diving into what a probability distribution and random variable are. So hold on tight, we are in lot more learning."
   ]
  },
  {
   "cell_type": "markdown",
   "metadata": {
    "slideshow": {
     "slide_type": "slide"
    }
   },
   "source": [
    "# Learning objectives\n",
    "\n",
    "Today we learn about data distributions.\n",
    "\n",
    "We will learn to visualize data to investigate the four main characteristics: Center, Spread, Dependence, and Shape. These tools include: rug plots, histograms, kde plots, box plots and scatter plots.\n",
    "\n",
    "And we will finish off by explaining how we describe the shape of data."
   ]
  },
  {
   "cell_type": "markdown",
   "metadata": {
    "collapsed": true,
    "slideshow": {
     "slide_type": "slide"
    }
   },
   "source": [
    "## Comprehension questions:\n",
    "\n",
    "1. Could you make a qualitative distribution of data? \n",
    "    1. Convert qualitative information into something that can be counted or categorized\n",
    "    1. then pivot on that count or category\n",
    "    \n",
    "1. What are the problems with visualizing data with a rug plot?\n",
    "    1. Does not tell a great story\n",
    "    1. Disregards datapoints that are similar or even quantites of data points that are the same\n",
    "    \n",
    "1. What are ways to view the distribution of your data?\n",
    "    1. histogram\n",
    "    1. box-plot\n",
    "    1. Scatter plot\n",
    "\n",
    "1. How do you read a histogram? \n",
    "    1. Aggregates data into bins\n",
    "    1. Distributes along the x-axis\n",
    "\n",
    "1. Why is it useful to view the distribution of your data?\n",
    "    1. Identify outliers\n",
    "    1. Understand and validate observations\n",
    "    1. Big picture view\n",
    "    1. Understand the data\n",
    "\n",
    "1. How would you visualize the distribution of 2D data? 3D? XD?\n",
    "    1. 2D: .jointplot(); plot dependence of the two dimensions\n",
    "    1. 3D: plot dependence of the three dimensions\n",
    "    1. XD: scatter plot matrix; dimensionality redux\n",
    "    1. Aggregate or summarize between x dimensions, then plot those aggregations\n",
    "    \n",
    "1. Are there any problems with using a scatterplot to visualize the data?\n",
    "    1. Not great with really really small data sets\n",
    "    1. Condor plots; heat maps\n",
    "\n",
    "1. In common English how would you describe two features that are positively correlated? Negatively correlated?\n",
    "    1. positive: the more I have of one thing, the more I get of the other\n",
    "    1. negative: diminishing returns\n",
    "    \n",
    "1. Do non-skewed data distributions have negative points?\n",
    "    1. Normal curve\n",
    "    1. Yes\n",
    "    \n",
    "1. What sort of data in real life have right skewed distributions?\n",
    "    1. Right skew = tail on the right side\n",
    "    1. income, housing, ads revenue, etc,\n",
    "    \n",
    "1. What sort of data in real life have high spread distributions?\n",
    "    1. fat tail\n",
    "    1. fair; large range\n",
    "    1. Temperature\n",
    "    1. height, weight, biological\n",
    "    1. Positively correlated with itself\n",
    "\n",
    "1. Are summary statistics or data visualizations better? \n",
    "    1. Visualizations for communicating ideas, provides more context\n"
   ]
  },
  {
   "cell_type": "code",
   "execution_count": null,
   "metadata": {},
   "outputs": [],
   "source": []
  }
 ],
 "metadata": {
  "celltoolbar": "Slideshow",
  "kernelspec": {
   "display_name": "Python 3",
   "language": "python",
   "name": "python3"
  },
  "language_info": {
   "codemirror_mode": {
    "name": "ipython",
    "version": 3
   },
   "file_extension": ".py",
   "mimetype": "text/x-python",
   "name": "python",
   "nbconvert_exporter": "python",
   "pygments_lexer": "ipython3",
   "version": "3.6.5"
  }
 },
 "nbformat": 4,
 "nbformat_minor": 2
}
