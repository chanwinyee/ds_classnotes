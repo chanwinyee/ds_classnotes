{
 "cells": [
  {
   "cell_type": "markdown",
   "metadata": {
    "slideshow": {
     "slide_type": "slide"
    }
   },
   "source": [
    "## Learning objectives\n",
    "\n",
    "Today we will learn about the plug in principle, which will (using our assumptions) allow us to finally talk about the population! We learn when to use it, what the tradeoffs are and go through some examples using it."
   ]
  },
  {
   "cell_type": "markdown",
   "metadata": {
    "slideshow": {
     "slide_type": "slide"
    }
   },
   "source": [
    "## Back to the assumptions\n",
    "\n",
    "So we are finally at the point where we are able to fully understand the assumption that I made a long time ago, and for those that forgot it, let's throw it back up:"
   ]
  },
  {
   "cell_type": "code",
   "execution_count": 8,
   "metadata": {
    "slideshow": {
     "slide_type": "subslide"
    }
   },
   "outputs": [
    {
     "ename": "ModuleNotFoundError",
     "evalue": "No module named 'nxpd'",
     "output_type": "error",
     "traceback": [
      "\u001b[0;31m---------------------------------------------------------------------------\u001b[0m",
      "\u001b[0;31mModuleNotFoundError\u001b[0m                       Traceback (most recent call last)",
      "\u001b[0;32m<ipython-input-8-8cdf1da240d9>\u001b[0m in \u001b[0;36m<module>\u001b[0;34m()\u001b[0m\n\u001b[1;32m      1\u001b[0m \u001b[0;32mimport\u001b[0m \u001b[0mnetworkx\u001b[0m \u001b[0;32mas\u001b[0m \u001b[0mnx\u001b[0m\u001b[0;34m\u001b[0m\u001b[0m\n\u001b[0;32m----> 2\u001b[0;31m \u001b[0;32mfrom\u001b[0m \u001b[0mnxpd\u001b[0m \u001b[0;32mimport\u001b[0m \u001b[0mdraw\u001b[0m\u001b[0;34m\u001b[0m\u001b[0m\n\u001b[0m\u001b[1;32m      3\u001b[0m \u001b[0;32mfrom\u001b[0m \u001b[0mnxpd\u001b[0m \u001b[0;32mimport\u001b[0m \u001b[0mnxpdParams\u001b[0m\u001b[0;34m\u001b[0m\u001b[0m\n\u001b[1;32m      4\u001b[0m \u001b[0mnxpdParams\u001b[0m\u001b[0;34m[\u001b[0m\u001b[0;34m'show'\u001b[0m\u001b[0;34m]\u001b[0m \u001b[0;34m=\u001b[0m \u001b[0;34m'ipynb'\u001b[0m\u001b[0;34m\u001b[0m\u001b[0m\n\u001b[1;32m      5\u001b[0m \u001b[0;34m\u001b[0m\u001b[0m\n",
      "\u001b[0;31mModuleNotFoundError\u001b[0m: No module named 'nxpd'"
     ]
    }
   ],
   "source": [
    "import networkx as nx\n",
    "from nxpd import draw\n",
    "from nxpd import nxpdParams\n",
    "nxpdParams['show'] = 'ipynb'\n",
    "\n",
    "G = nx.DiGraph()\n",
    "G.add_node('IID samples from a r.v. X')\n",
    "G.add_node('Inputs (x_1, x_2, ..., x_n)')\n",
    "G.add_edge('IID samples from a r.v. X', 'Inputs (x_1, x_2, ..., x_n)')\n",
    "draw(G)"
   ]
  },
  {
   "cell_type": "markdown",
   "metadata": {
    "slideshow": {
     "slide_type": "subslide"
    }
   },
   "source": [
    "So I have two assumptions, first is that I can generate IID samples from a r.v. X, and the second is that I have those samples as my input. And it turns out that we can work with these for a while before we need more! But let's recap.\n",
    "\n",
    "The first assumption says that there is some r.v. (a single one/identically distributed!) that we are sampling from. This means we have isolated where we get the data from, and we are very truthful about it."
   ]
  },
  {
   "cell_type": "markdown",
   "metadata": {
    "slideshow": {
     "slide_type": "subslide"
    }
   },
   "source": [
    "In the Truman election they wanted to sample the single variable: americans, so that they could estimate who would win the election (because you see americans vote in the american election).\n",
    "\n",
    "So they picked up their phone and called everyone that they could and they asked them who they were voting for. Do you see the problem? \n",
    "\n",
    "They weren't sampling americans, they were sampling americans with a phone! They were sampling the wrong population.\n",
    "\n",
    "The first assumption also says that those samples should be independent. Meaning that their outcomes don't depend on each other. Thus if you gather the data in such a way, you will hit the first assumption.\n",
    "\n",
    "The second assumption is easy: you have the data.\n",
    "\n",
    "And with only this much we can get cracking. \n",
    "\n",
    "We have a random sample of the population that we're interested in."
   ]
  },
  {
   "cell_type": "markdown",
   "metadata": {
    "slideshow": {
     "slide_type": "slide"
    }
   },
   "source": [
    "## Plug in Principle\n",
    "\n",
    "Okay let's start off with the basics, what we are most interested in is the population distribution. For example: what is the height of all people in the world (imagine how much money it would take to collect all that data)! \n",
    "\n",
    "If we had that then we could answer nearly any question you could imagine about people's heights. But this is as I said above, often too hard or impossible to get. So the next best thing we can do is get summary statistics of the population (or at least our best guesses as to where they should be). \n",
    "\n",
    "One way to get this is with the Plug in Principle!\n",
    "\n",
    "So let's get started\n",
    "\n"
   ]
  },
  {
   "cell_type": "markdown",
   "metadata": {
    "slideshow": {
     "slide_type": "slide"
    }
   },
   "source": [
    "### Population and Sample\n",
    "\n",
    "So lets say that we are trying to figure out how many trees are in each person's back yard. I don't have this data but I am going to make it up. I'll call this data the population distribution and you can see it below:"
   ]
  },
  {
   "cell_type": "code",
   "execution_count": 9,
   "metadata": {
    "slideshow": {
     "slide_type": "subslide"
    }
   },
   "outputs": [
    {
     "data": {
      "text/plain": [
       "array([0, 0, 1, 0, 1, 1, 0, 1, 0, 2])"
      ]
     },
     "execution_count": 9,
     "metadata": {},
     "output_type": "execute_result"
    }
   ],
   "source": [
    "import numpy as np\n",
    "\n",
    "population_dist = np.random.poisson(lam=.5, size=1000)\n",
    "\n",
    "population_dist[:10]\n",
    "\n",
    "#This is an IID from a Random Variable"
   ]
  },
  {
   "cell_type": "markdown",
   "metadata": {
    "slideshow": {
     "slide_type": "fragment"
    }
   },
   "source": [
    "Normally you would not have access to this information. But for learning's sake let's say we do. Normally we would only have access to a sample of the population. Below I will take some IID samples from the population:"
   ]
  },
  {
   "cell_type": "code",
   "execution_count": 10,
   "metadata": {
    "slideshow": {
     "slide_type": "subslide"
    }
   },
   "outputs": [
    {
     "data": {
      "text/plain": [
       "array([0, 0, 0, 0, 0, 0, 0, 1, 0, 2])"
      ]
     },
     "execution_count": 10,
     "metadata": {},
     "output_type": "execute_result"
    }
   ],
   "source": [
    "sample = np.random.choice(population_dist, 10, False)\n",
    "\n",
    "sample"
   ]
  },
  {
   "cell_type": "markdown",
   "metadata": {
    "slideshow": {
     "slide_type": "slide"
    }
   },
   "source": [
    "Now time for the question. Let's say we were interested in the median number of trees in somebody's back yard, and we only have the sample data. What could we do to estimate this function of the population? \n",
    "\n",
    "Well it turns out this is where the plug in principle comes in handy. Let me explain it in _ parts"
   ]
  },
  {
   "cell_type": "markdown",
   "metadata": {
    "slideshow": {
     "slide_type": "subslide"
    }
   },
   "source": [
    "\n",
    "\n",
    "#### The Question \n",
    "\n",
    "I want to remind ourselves the question that we are looking to answer. In broad terms we are looking to find a function of our population, eg. the median number of trees in backyards. Almost any real world question about a population can be phrased as a function. "
   ]
  },
  {
   "cell_type": "markdown",
   "metadata": {
    "slideshow": {
     "slide_type": "subslide"
    }
   },
   "source": [
    "#### The Assumptions\n",
    "\n",
    "The assumptions that we have to answer this question are twofold:\n",
    "\n",
    "1. We have samples from the population\n",
    "2. The samples are IID"
   ]
  },
  {
   "cell_type": "markdown",
   "metadata": {
    "slideshow": {
     "slide_type": "subslide"
    }
   },
   "source": [
    "#### The Answer\n",
    "\n",
    "It turns out that applying the function to the sample is our best guess as to what the function would be on the population. And that is the plug in principle, and something that you will have to take on faith.\n",
    "\n",
    "The proofy statement normally goes:\n",
    "\n",
    "<blockquote>\n",
    "    In a nonparametric framework, the empirical distribution (the sample) is a minimal sufficent statistic for the true distribution (the population). In this case, the plug-in principle provides nonparametric maximum likelihood estimates.\n",
    "</blockquote>"
   ]
  },
  {
   "cell_type": "markdown",
   "metadata": {
    "slideshow": {
     "slide_type": "subslide"
    }
   },
   "source": [
    "#### The tradeoff\n",
    "\n",
    "There is one tradeoff here, and that is the larger the sample the better the plug in principle will work. I think the best way to see this is if you were interested in what the average height of people was in the US and you sampled everybody in the US, well then you would just need to average your sample and you'd have the right answer. \n",
    "\n",
    "The smaller your sample, the faster it is to get, but the worse the plug in principle will work. "
   ]
  },
  {
   "cell_type": "markdown",
   "metadata": {
    "slideshow": {
     "slide_type": "subslide"
    }
   },
   "source": [
    "#### The Catch\n",
    "\n",
    "Here is the catch. Just because the plug in principle is our best guess, does not make it a good guess. It could be a terrible one! But we will leave this problem till next time!"
   ]
  },
  {
   "cell_type": "markdown",
   "metadata": {
    "slideshow": {
     "slide_type": "subslide"
    }
   },
   "source": [
    "So let's try the plug in principle out below:"
   ]
  },
  {
   "cell_type": "code",
   "execution_count": 12,
   "metadata": {
    "slideshow": {
     "slide_type": "fragment"
    }
   },
   "outputs": [
    {
     "name": "stdout",
     "output_type": "stream",
     "text": [
      "0.0\n",
      "0.0\n"
     ]
    }
   ],
   "source": [
    "print (np.median(population_dist))\n",
    "print (np.median(sample))"
   ]
  },
  {
   "cell_type": "markdown",
   "metadata": {
    "slideshow": {
     "slide_type": "slide"
    }
   },
   "source": [
    "Well that's not so bad right? But let's make this more fun. Let's make a really complex function. Let's say we were interested in the chance that any 10 randomly choosen yards would have no trees in them. Pretty complex. \n",
    "\n",
    "How would you find the answer to this if you had the full population data? Perhaps you would randomly pick sets of 10 trees from the population data and see if they all had no trees. See below:"
   ]
  },
  {
   "cell_type": "code",
   "execution_count": 13,
   "metadata": {
    "slideshow": {
     "slide_type": "subslide"
    }
   },
   "outputs": [],
   "source": [
    "def ten_yards_no_trees():\n",
    "    random_set = np.random.choice(population_dist, 10, False)\n",
    "    if random_set.sum() == 0:\n",
    "        return 1\n",
    "    else:\n",
    "        return 0"
   ]
  },
  {
   "cell_type": "markdown",
   "metadata": {
    "slideshow": {
     "slide_type": "subslide"
    }
   },
   "source": [
    "What have we made? We have in fact made a random variable!!! We are in fact quite interested in the mean of this random variable, because it turns out to be the chance that any 10 randomly choosen yards would have no trees! Well how do we find the mean of random variable? \n",
    "\n",
    "That is right, we take samples from it! Hopefully a lot of them:"
   ]
  },
  {
   "cell_type": "code",
   "execution_count": 20,
   "metadata": {
    "slideshow": {
     "slide_type": "fragment"
    }
   },
   "outputs": [
    {
     "data": {
      "text/plain": [
       "0.1073107310731073"
      ]
     },
     "execution_count": 20,
     "metadata": {},
     "output_type": "execute_result"
    }
   ],
   "source": [
    "np.mean([ten_yards_no_trees() for _ in range(9999)])"
   ]
  },
  {
   "cell_type": "markdown",
   "metadata": {
    "slideshow": {
     "slide_type": "subslide"
    }
   },
   "source": [
    "Okay, we have a function of our population. In real life we would not be able to use the population data, so what would we do? Well by the plug in principle we would apply this function to the sample!\n",
    "\n",
    "Do you see any problems?\n",
    "\n",
    "Well there is a small problem. What would happen if we randomly pick sets of 10 trees from our sample of size 10... Well it would always be the same sample. So what do we do? \n",
    "\n",
    "Well there is a little trick that we can use. It turns out there is something called picking with replacement. It has a lot of the same properties, the only difference between just picking randomly and picking randomly with replacement is that instead of only being able to pick each number once, we can pick it many times. \n",
    "\n",
    "If you can imagine pulling balls from a bag, you take one out, record its number, put it back in again, shuffle the bag around and repeat.\n",
    "\n",
    "So let's do sampling with replacement and see what we get:"
   ]
  },
  {
   "cell_type": "code",
   "execution_count": 21,
   "metadata": {
    "slideshow": {
     "slide_type": "subslide"
    }
   },
   "outputs": [
    {
     "data": {
      "text/plain": [
       "0.1036103610361036"
      ]
     },
     "execution_count": 21,
     "metadata": {},
     "output_type": "execute_result"
    }
   ],
   "source": [
    "def ten_yards_no_trees():\n",
    "    # notice the replace\n",
    "    random_set = np.random.choice(sample, 10, replace=True) #Random sample with replacement)\n",
    "    if random_set.sum() == 0:\n",
    "        return 1\n",
    "    else:\n",
    "        return 0\n",
    "    \n",
    "    \n",
    "np.mean([ten_yards_no_trees() for _ in range(9999)])"
   ]
  },
  {
   "cell_type": "markdown",
   "metadata": {
    "slideshow": {
     "slide_type": "fragment"
    }
   },
   "source": [
    "Not too bad right? "
   ]
  },
  {
   "cell_type": "markdown",
   "metadata": {
    "slideshow": {
     "slide_type": "slide"
    }
   },
   "source": [
    "## Why is this important\n",
    "\n",
    "Well I have finally told you the trick to allow you to talk about data that you have not seen, and that trick is the plug in principle.\n",
    "\n",
    "Next time we will deal with the catch in the plug in principle: it might be the best guess, but is it any good at all?"
   ]
  },
  {
   "cell_type": "markdown",
   "metadata": {
    "slideshow": {
     "slide_type": "slide"
    }
   },
   "source": [
    "## Learning objectives\n",
    "\n",
    "Today we will learn about the plug in principle, which will (using our assumptions) allow us to finally talk about the population! We learn when to use it, what the tradeoffs are and go through some examples using it."
   ]
  },
  {
   "cell_type": "markdown",
   "metadata": {
    "slideshow": {
     "slide_type": "slide"
    }
   },
   "source": [
    "## Comprehension Questions\n",
    "\n",
    "1.\tWhat are problems with our current assumptions? Do we deal with black swans?\n",
    "    1. Have to assume that the Random Variable represents our population, and population has outliers\n",
    "    1. Big enough sample to mitigate Black Swan.\n",
    "    \n",
    "2.\tIs there a way that you could see the Truman election sampling as violating independence?\n",
    "    1. Phone call may trigger conversation.\n",
    "    1. Each phone call impacts the probability that the blind test is biased.\n",
    "\n",
    "3.\tWhat is a good way to verify the plug in principle works?\n",
    "    1. Run the Plug In Principle on a sample of the whole population. :)\n",
    "\n",
    "4.\tDefine population and sample from a data science perspective.\n",
    "    1. Population = Random Variable; set of data that includes all of people around the element we care about\n",
    "    1. Sample = random sample; array of IID's\n",
    "\n",
    "5.\tHow big of a sample is big enough for the plug in principle to work? \n",
    "    1. 30-35\n",
    "\n",
    "6.\tWhat if we were interested in the percent of times that the plug in principle is off by 1 when estimating the sample median for the population in this lecture? Could you code it up?\n",
    "    1. That means that the sample median is off by one from the population \n",
    "\n",
    "7.\tWhy doesn’t the plug in principle work if we don’t have our assumptions?\n",
    "    1. Not an IID; not representative of the population \n",
    "\n"
   ]
  },
  {
   "cell_type": "code",
   "execution_count": 24,
   "metadata": {},
   "outputs": [],
   "source": [
    "\n",
    "def plug_in_wrong():\n",
    "    sample = np.random.choice(population_dist, 10, False)\n",
    "    if abs(np.median(sample) - np.median(population_dist))>=1:\n",
    "        return 1\n",
    "    return 0"
   ]
  },
  {
   "cell_type": "code",
   "execution_count": 25,
   "metadata": {},
   "outputs": [
    {
     "data": {
      "text/plain": [
       "0.1617161716171617"
      ]
     },
     "execution_count": 25,
     "metadata": {},
     "output_type": "execute_result"
    }
   ],
   "source": [
    "np.mean([plug_in_wrong() for _ in range(9999)])"
   ]
  },
  {
   "cell_type": "code",
   "execution_count": 42,
   "metadata": {},
   "outputs": [],
   "source": [
    "original_sample = np.random.choice(population_dist, 10, False)\n",
    "\n",
    "def plug_in_wrong():\n",
    "    sample = np.random.choice(original_sample, 10, replace=True)\n",
    "    if abs(np.median(sample) - np.median(original_sample))>=1:\n",
    "        return 1\n",
    "    return 0"
   ]
  },
  {
   "cell_type": "code",
   "execution_count": 43,
   "metadata": {},
   "outputs": [
    {
     "data": {
      "text/plain": [
       "0.1716171617161716"
      ]
     },
     "execution_count": 43,
     "metadata": {},
     "output_type": "execute_result"
    }
   ],
   "source": [
    "np.mean([plug_in_wrong() for _ in range(9999)])"
   ]
  },
  {
   "cell_type": "code",
   "execution_count": null,
   "metadata": {},
   "outputs": [],
   "source": []
  }
 ],
 "metadata": {
  "celltoolbar": "Slideshow",
  "kernelspec": {
   "display_name": "Python 3",
   "language": "python",
   "name": "python3"
  },
  "language_info": {
   "codemirror_mode": {
    "name": "ipython",
    "version": 3
   },
   "file_extension": ".py",
   "mimetype": "text/x-python",
   "name": "python",
   "nbconvert_exporter": "python",
   "pygments_lexer": "ipython3",
   "version": "3.6.5"
  }
 },
 "nbformat": 4,
 "nbformat_minor": 2
}
