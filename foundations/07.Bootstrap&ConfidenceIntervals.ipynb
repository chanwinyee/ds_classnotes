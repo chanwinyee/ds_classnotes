{
 "cells": [
  {
   "cell_type": "markdown",
   "metadata": {
    "collapsed": true,
    "slideshow": {
     "slide_type": "slide"
    }
   },
   "source": [
    "## Learning objectives\n",
    "\n",
    "Today we learn how to make a confidence interval with bootstrapping. \n",
    "\n",
    "We will \n",
    "\n",
    "1. Learn to make a confidence interval with the true population\n",
    "2. Learn to apply bootstrap to get the confidence interval\n",
    "3. Learn about what happens to the confidence interval as the sample size increases and decreases"
   ]
  },
  {
   "cell_type": "markdown",
   "metadata": {
    "slideshow": {
     "slide_type": "slide"
    }
   },
   "source": [
    "## Something is not normal\n",
    "\n",
    "This is probably the point where I should bring this up, but this is not the normal way that people generally go about teaching confidence intervals. \n",
    "\n",
    "Generally speaking people will walk down the road of old school inferential statistics and teach you confidence intervals using the Central Limit Theorem and Normal distributions. \n",
    "\n",
    "There are two reasons that I am not doing this:\n",
    "\n",
    "1. This would require a lot more stats knowledge to fully understand and grasp\n",
    "2. This is much less powerful than bootstrap confidence intervals"
   ]
  },
  {
   "cell_type": "markdown",
   "metadata": {
    "slideshow": {
     "slide_type": "subslide"
    }
   },
   "source": [
    "And for those reasons we are sticking with bootstrap tests. \n",
    "\n",
    "Let me make one final point here: there are sooo many ways to do the above! There are hundreds of ways that do better under one condition or another, so I have tried to optimize for versatility and simplicity when choosing the methods I show below. \n",
    "\n",
    "Before we continue, we need to look at the assumptions again, because WITHOUT THE ASSUMPTIONS WE CANNOT DO ANY OF THE BELOW!!!"
   ]
  },
  {
   "cell_type": "code",
   "execution_count": 1,
   "metadata": {},
   "outputs": [
    {
     "ename": "ModuleNotFoundError",
     "evalue": "No module named 'nxpd'",
     "output_type": "error",
     "traceback": [
      "\u001b[0;31m---------------------------------------------------------------------------\u001b[0m",
      "\u001b[0;31mModuleNotFoundError\u001b[0m                       Traceback (most recent call last)",
      "\u001b[0;32m<ipython-input-1-8abf27a71853>\u001b[0m in \u001b[0;36m<module>\u001b[0;34m()\u001b[0m\n\u001b[1;32m      1\u001b[0m \u001b[0;32mimport\u001b[0m \u001b[0mnetworkx\u001b[0m \u001b[0;32mas\u001b[0m \u001b[0mnx\u001b[0m\u001b[0;34m\u001b[0m\u001b[0m\n\u001b[0;32m----> 2\u001b[0;31m \u001b[0;32mfrom\u001b[0m \u001b[0mnxpd\u001b[0m \u001b[0;32mimport\u001b[0m \u001b[0mdraw\u001b[0m\u001b[0;34m\u001b[0m\u001b[0m\n\u001b[0m\u001b[1;32m      3\u001b[0m \u001b[0;32mfrom\u001b[0m \u001b[0mnxpd\u001b[0m \u001b[0;32mimport\u001b[0m \u001b[0mnxpdParams\u001b[0m\u001b[0;34m\u001b[0m\u001b[0m\n",
      "\u001b[0;31mModuleNotFoundError\u001b[0m: No module named 'nxpd'"
     ]
    }
   ],
   "source": [
    "import networkx as nx\n",
    "from nxpd import draw\n",
    "from nxpd import nxpdParams\n"
   ]
  },
  {
   "cell_type": "code",
   "execution_count": 2,
   "metadata": {
    "slideshow": {
     "slide_type": "subslide"
    }
   },
   "outputs": [
    {
     "ename": "NameError",
     "evalue": "name 'nxpdParams' is not defined",
     "output_type": "error",
     "traceback": [
      "\u001b[0;31m---------------------------------------------------------------------------\u001b[0m",
      "\u001b[0;31mNameError\u001b[0m                                 Traceback (most recent call last)",
      "\u001b[0;32m<ipython-input-2-ecbea52c6c73>\u001b[0m in \u001b[0;36m<module>\u001b[0;34m()\u001b[0m\n\u001b[0;32m----> 1\u001b[0;31m \u001b[0mnxpdParams\u001b[0m\u001b[0;34m[\u001b[0m\u001b[0;34m'show'\u001b[0m\u001b[0;34m]\u001b[0m \u001b[0;34m=\u001b[0m \u001b[0;34m'ipynb'\u001b[0m\u001b[0;34m\u001b[0m\u001b[0m\n\u001b[0m\u001b[1;32m      2\u001b[0m \u001b[0;34m\u001b[0m\u001b[0m\n\u001b[1;32m      3\u001b[0m \u001b[0mG\u001b[0m \u001b[0;34m=\u001b[0m \u001b[0mnx\u001b[0m\u001b[0;34m.\u001b[0m\u001b[0mDiGraph\u001b[0m\u001b[0;34m(\u001b[0m\u001b[0;34m)\u001b[0m\u001b[0;34m\u001b[0m\u001b[0m\n\u001b[1;32m      4\u001b[0m \u001b[0mG\u001b[0m\u001b[0;34m.\u001b[0m\u001b[0madd_node\u001b[0m\u001b[0;34m(\u001b[0m\u001b[0;34m'IID samples from a r.v. X'\u001b[0m\u001b[0;34m)\u001b[0m\u001b[0;34m\u001b[0m\u001b[0m\n\u001b[1;32m      5\u001b[0m \u001b[0mG\u001b[0m\u001b[0;34m.\u001b[0m\u001b[0madd_node\u001b[0m\u001b[0;34m(\u001b[0m\u001b[0;34m'Inputs (x_1, x_2, ..., x_n)'\u001b[0m\u001b[0;34m)\u001b[0m\u001b[0;34m\u001b[0m\u001b[0m\n",
      "\u001b[0;31mNameError\u001b[0m: name 'nxpdParams' is not defined"
     ]
    }
   ],
   "source": [
    "nxpdParams['show'] = 'ipynb'\n",
    "\n",
    "G = nx.DiGraph()\n",
    "G.add_node('IID samples from a r.v. X')\n",
    "G.add_node('Inputs (x_1, x_2, ..., x_n)')\n",
    "G.add_edge('IID samples from a r.v. X', 'Inputs (x_1, x_2, ..., x_n)')\n",
    "draw(G)"
   ]
  },
  {
   "cell_type": "markdown",
   "metadata": {
    "slideshow": {
     "slide_type": "slide"
    }
   },
   "source": [
    "## A Different question\n",
    "\n",
    "Let's start off by asking a different question. Let's say we had a population, like the one below"
   ]
  },
  {
   "cell_type": "code",
   "execution_count": 3,
   "metadata": {
    "slideshow": {
     "slide_type": "fragment"
    }
   },
   "outputs": [
    {
     "data": {
      "text/plain": [
       "array([19, 28, 29, 26, 30])"
      ]
     },
     "execution_count": 3,
     "metadata": {},
     "output_type": "execute_result"
    }
   ],
   "source": [
    "import numpy as np\n",
    "\n",
    "population_dist = np.random.poisson(30, size=1000)\n",
    "\n",
    "population_dist[:5]"
   ]
  },
  {
   "cell_type": "markdown",
   "metadata": {
    "slideshow": {
     "slide_type": "subslide"
    }
   },
   "source": [
    "And let's say you were taking samples from it 10 at a time and finding their mean. What would you expect the mean of the samples to be? What mean would be extraordinary? \n",
    "\n",
    "To be exact, I'm asking you for a range of possible means I should expect 99% of the time. How would you figure this out?\n",
    "\n",
    "Your first instinct might be to construct and visualize the random variable representing sample means, I will do this below:"
   ]
  },
  {
   "cell_type": "code",
   "execution_count": 4,
   "metadata": {
    "slideshow": {
     "slide_type": "subslide"
    }
   },
   "outputs": [
    {
     "name": "stderr",
     "output_type": "stream",
     "text": [
      "/anaconda3/lib/python3.6/site-packages/matplotlib/axes/_axes.py:6462: UserWarning: The 'normed' kwarg is deprecated, and has been replaced by the 'density' kwarg.\n",
      "  warnings.warn(\"The 'normed' kwarg is deprecated, and has been \"\n"
     ]
    },
    {
     "data": {
      "text/plain": [
       "<matplotlib.axes._subplots.AxesSubplot at 0x11673f400>"
      ]
     },
     "execution_count": 4,
     "metadata": {},
     "output_type": "execute_result"
    },
    {
     "data": {
      "image/png": "[encoded data removed]",
      "text/plain": [
       "<Figure size 432x288 with 1 Axes>"
      ]
     },
     "metadata": {},
     "output_type": "display_data"
    }
   ],
   "source": [
    "%matplotlib inline\n",
    "import seaborn as sns\n",
    "\n",
    "sampling_dist = [np.mean(np.random.choice(population_dist, 10, replace=False)) for _ in range(9999)]\n",
    "\n",
    "sns.distplot(sampling_dist)"
   ]
  },
  {
   "cell_type": "markdown",
   "metadata": {
    "slideshow": {
     "slide_type": "subslide"
    }
   },
   "source": [
    "*Note that this distribution has a special name, the sampling distribution*\n",
    "\n",
    "Okay now what would you say? Would getting a mean of 30 be unexpected? What about 36? What about 40? Obviously you can give me answers to the above, but they did not exactly answer my question. What would be a reasonable range?\n",
    "\n",
    "One way that we can phrase this question is: how far from the actual mean do you expect your sample mean to be?\n",
    "\n",
    "The actual mean of this guy is 30, so how far from 30 do you expect it to be? Well what fraction of samples above are more than 5 away from 30?"
   ]
  },
  {
   "cell_type": "code",
   "execution_count": 5,
   "metadata": {
    "slideshow": {
     "slide_type": "subslide"
    }
   },
   "outputs": [
    {
     "data": {
      "text/plain": [
       "0.003000300030003"
      ]
     },
     "execution_count": 5,
     "metadata": {},
     "output_type": "execute_result"
    }
   ],
   "source": [
    "((np.array(sampling_dist) - 30)**2 > 25).mean()"
   ]
  },
  {
   "cell_type": "markdown",
   "metadata": {
    "slideshow": {
     "slide_type": "fragment"
    }
   },
   "source": [
    "It looks like there is less than a 1% chance that the sample mean is more than 5 away from the real mean of the population..."
   ]
  },
  {
   "cell_type": "markdown",
   "metadata": {
    "slideshow": {
     "slide_type": "subslide"
    }
   },
   "source": [
    "**Whoa**\n",
    "\n",
    "What did we just say:\n",
    "\n",
    "...there is less than a 1% chance that the sample mean is more than 5 away from the real mean of the population...\n",
    "\n",
    "Do y'all see what we did. We just made an interval that we are 99% sure contains the real mean, aka the sample mean plus or minus 5. We just need to reverse the order of the statement to see it fully:\n",
    "\n",
    "...there is less than a 1% chance that the real mean is more than 5 away from the sample mean of the population...\n",
    "\n",
    "- Because the plug in principle says that the mean of the sample is the same as the real population, we have in a way found some way to predict probability on a population"
   ]
  },
  {
   "cell_type": "markdown",
   "metadata": {
    "slideshow": {
     "slide_type": "slide"
    }
   },
   "source": [
    "## Bootstrap Confidence Interval\n",
    "\n",
    "So the question is how did we get there? Let me recap in a couple of steps:\n",
    "\n",
    "1. We sampled from the distribution a ton of times to make a sampling distribution\n",
    "2. We found the distance from the mean such that a sample would have a less than X% chance of being further\n",
    "\n",
    "Basically we just made a complex function of the population distribution. If there were only a way to esitmate the answer to this function from the sample...\n",
    "\n",
    "XD\n",
    "\n",
    "You guessed it, this is another application of the plug in principle. This is formally called bootstrapping, let's have a look to see how it is done below:"
   ]
  },
  {
   "cell_type": "code",
   "execution_count": 6,
   "metadata": {
    "slideshow": {
     "slide_type": "subslide"
    }
   },
   "outputs": [
    {
     "name": "stderr",
     "output_type": "stream",
     "text": [
      "/anaconda3/lib/python3.6/site-packages/matplotlib/axes/_axes.py:6462: UserWarning: The 'normed' kwarg is deprecated, and has been replaced by the 'density' kwarg.\n",
      "  warnings.warn(\"The 'normed' kwarg is deprecated, and has been \"\n"
     ]
    },
    {
     "data": {
      "text/plain": [
       "<matplotlib.axes._subplots.AxesSubplot at 0x1a227b5e48>"
      ]
     },
     "execution_count": 6,
     "metadata": {},
     "output_type": "execute_result"
    },
    {
     "data": {
      "image/png": "[encoded data removed]",
      "text/plain": [
       "<Figure size 432x288 with 1 Axes>"
      ]
     },
     "metadata": {},
     "output_type": "display_data"
    }
   ],
   "source": [
    "sample = np.random.choice(population_dist, 10, replace=False)\n",
    "\n",
    "bootstrap_dist = [np.mean(np.random.choice(sample, 10, replace=True)) for _ in range(9999)]\n",
    "\n",
    "sns.distplot(bootstrap_dist)"
   ]
  },
  {
   "cell_type": "markdown",
   "metadata": {
    "slideshow": {
     "slide_type": "subslide"
    }
   },
   "source": [
    "Next step we find the distance from the sample mean such that it would have less than an X% chance of being further:"
   ]
  },
  {
   "cell_type": "code",
   "execution_count": 7,
   "metadata": {
    "slideshow": {
     "slide_type": "fragment"
    }
   },
   "outputs": [
    {
     "name": "stdout",
     "output_type": "stream",
     "text": [
      "29.8\n"
     ]
    },
    {
     "data": {
      "text/plain": [
       "0.00040004000400040005"
      ]
     },
     "execution_count": 7,
     "metadata": {},
     "output_type": "execute_result"
    }
   ],
   "source": [
    "sample_mean = np.mean(sample)\n",
    "print (sample_mean)\n",
    "\n",
    "((np.array(bootstrap_dist) - sample_mean)**2 > 25).mean()"
   ]
  },
  {
   "cell_type": "markdown",
   "metadata": {
    "slideshow": {
     "slide_type": "slide"
    }
   },
   "source": [
    "### Percentile Confidence Interval\n",
    "\n",
    "Well I hope you are smiling now. When I first saw this it was like magic for me. It is simply an application of the plug in principle. For all this knowledge we had to learn just one thing. It almost feels like cheating!\n",
    "\n",
    "There is one shortcut I am going to use throughout the class, and that will be the percentile confidence interval for bootstrap. It is a pretty simple change from what we do above. It makes one more assumption, that the bootstrap distribution is symetric (the long name for it is the bootstrap central limit theorum). \n",
    "\n",
    "But the concept is pretty simple.\n",
    "\n",
    "Let's say you are looking for a 95% confidence interval. Simply take the bootstrap distribution that we made above, and trim off the 2.5% of the extremes on the right and the left, like so:"
   ]
  },
  {
   "cell_type": "code",
   "execution_count": 8,
   "metadata": {
    "slideshow": {
     "slide_type": "subslide"
    }
   },
   "outputs": [
    {
     "name": "stdout",
     "output_type": "stream",
     "text": [
      "27.2\n",
      "32.6\n"
     ]
    }
   ],
   "source": [
    "print (np.percentile(bootstrap_dist, 2.5))\n",
    "print (np.percentile(bootstrap_dist, 97.5))"
   ]
  },
  {
   "cell_type": "markdown",
   "metadata": {
    "slideshow": {
     "slide_type": "fragment"
    }
   },
   "source": [
    "And that is the 95% confidence interval!\n",
    "\n",
    "Seaborn even has nice visualizations of confidence intervals built in:"
   ]
  },
  {
   "cell_type": "code",
   "execution_count": 9,
   "metadata": {
    "slideshow": {
     "slide_type": "subslide"
    }
   },
   "outputs": [
    {
     "data": {
      "text/plain": [
       "<matplotlib.axes._subplots.AxesSubplot at 0x1a22730a20>"
      ]
     },
     "execution_count": 9,
     "metadata": {},
     "output_type": "execute_result"
    },
    {
     "data": {
      "image/png": "[encoded data removed]",
      "text/plain": [
       "<Figure size 432x288 with 1 Axes>"
      ]
     },
     "metadata": {},
     "output_type": "display_data"
    }
   ],
   "source": [
    "sns.pointplot(sample, ci=95)"
   ]
  },
  {
   "cell_type": "markdown",
   "metadata": {
    "slideshow": {
     "slide_type": "subslide"
    }
   },
   "source": [
    "As well as a simple function to do it for you:"
   ]
  },
  {
   "cell_type": "code",
   "execution_count": 10,
   "metadata": {
    "slideshow": {
     "slide_type": "fragment"
    }
   },
   "outputs": [
    {
     "name": "stdout",
     "output_type": "stream",
     "text": [
      "27.2\n",
      "32.6\n"
     ]
    }
   ],
   "source": [
    "bootstrap_dist = sns.algorithms.bootstrap(sample, n_boot=9999, func=np.mean)\n",
    "\n",
    "print (np.percentile(bootstrap_dist, 2.5))\n",
    "print (np.percentile(bootstrap_dist, 97.5))"
   ]
  },
  {
   "cell_type": "markdown",
   "metadata": {
    "slideshow": {
     "slide_type": "subslide"
    }
   },
   "source": [
    "Now before we move on I want to say something on the method we use here, and that is on the randomness. \n",
    "\n",
    "Where does the randomness come from?\n",
    "\n",
    "We have a sampling distribution for our true population statistic. Does this mean that the true population statistic is random? \n",
    "\n",
    "No\n",
    "\n",
    "What this means is that by taking RANDOM SAMPLES we get RANDOM ESTIMATES OF THE POPULATION STATISTIC. The population statistic stays the same.\n",
    "\n",
    "So when we say that we are 95% confident that the true population statistic lies within these bounds that are generated via random sampling, what we mean is that 95% of the time we will sample such that the bounds contain the true population statistic. \n",
    "\n",
    "This is a crucial difference to understand, so feel free to go through this section twice."
   ]
  },
  {
   "cell_type": "markdown",
   "metadata": {
    "slideshow": {
     "slide_type": "slide"
    }
   },
   "source": [
    "## It get's smaller\n",
    "\n",
    "We should mention again the tradeoff that we said when we first introduced the plug in principle: as we get bigger samples, the estimate gets better. We can see this quite visibly here. As we get more samples the confidence interval will decrease because we are more confident in what the true population parameter will be. We can visually see this here, check out the confidence intervals of different sizes of samples:"
   ]
  },
  {
   "cell_type": "code",
   "execution_count": 11,
   "metadata": {
    "slideshow": {
     "slide_type": "subslide"
    }
   },
   "outputs": [
    {
     "name": "stdout",
     "output_type": "stream",
     "text": [
      "Sample size is 5\n",
      "26.8\n",
      "32.8\n",
      "Sample size is 50\n",
      "30.04\n",
      "32.82\n"
     ]
    }
   ],
   "source": [
    "sample = np.random.choice(population_dist, 5, replace=False)\n",
    "\n",
    "bootstrap_dist = sns.algorithms.bootstrap(sample, n_boot=9999, func=np.mean)\n",
    "\n",
    "print ('Sample size is 5')\n",
    "print (np.percentile(bootstrap_dist, 2.5))\n",
    "print (np.percentile(bootstrap_dist, 97.5))\n",
    "\n",
    "sample = np.random.choice(population_dist, 50, replace=False)\n",
    "\n",
    "bootstrap_dist = sns.algorithms.bootstrap(sample, n_boot=9999, func=np.mean)\n",
    "\n",
    "print ('Sample size is 50')\n",
    "print (np.percentile(bootstrap_dist, 2.5))\n",
    "print (np.percentile(bootstrap_dist, 97.5))"
   ]
  },
  {
   "cell_type": "markdown",
   "metadata": {
    "slideshow": {
     "slide_type": "slide"
    }
   },
   "source": [
    "## Why this matters\n",
    "\n",
    "Well hopefully you can see how this matters a ton! Any time you are curious about characteristics of a population based on data that you get from a sample, these techniques can help you ascertain reasonable bounds for that characteristic or falsify your assumptions.\n",
    "\n",
    "What is most important to remember is that you can't just use these techniques willy nilly! You must satisfy the assumptions above, and only then will the techniques prove correct! "
   ]
  },
  {
   "cell_type": "markdown",
   "metadata": {
    "collapsed": true,
    "slideshow": {
     "slide_type": "slide"
    }
   },
   "source": [
    "## Learning objectives\n",
    "\n",
    "Today we learn how to make a confidence interval with bootstrapping. \n",
    "\n",
    "We will \n",
    "\n",
    "1. Learn to make a confidence interval with the true population\n",
    "2. Learn to apply bootstrap to get the confidence interval\n",
    "3. Learn about what happens to the confidence interval as the sample size increases and decreases"
   ]
  },
  {
   "cell_type": "markdown",
   "metadata": {
    "slideshow": {
     "slide_type": "slide"
    }
   },
   "source": [
    "## Comprehension Questions\n",
    "\n",
    "1.\tWhat is the central limit theorem? And what is the classic way of making confidence intervals?\n",
    "     - It theorizes that if you take a lot of samples from a population, the outcome will fall into a normal bell curve\n",
    "     - The classic way is to say values that fall within 2 standard deviations of the mean falls within a 95% confidence level\n",
    "\n",
    "2.\tWhen can we apply bootstrap confidence intervals?\n",
    "    - IID samples from a random variable\n",
    "    - In summary statistics, or other metrics that summarize the data\n",
    "    \n",
    "3.\tWhat is the sampling distribution and why is it special?\n",
    "    - Has replacement\n",
    "    - Allows for Bootstrapping\n",
    "    - Represents summary statistics that represent the actual population (Plug-in Principle)\n",
    "    - Less than 1% chance the sample mean is less than the population mean\n",
    "    - Not applicable: Max Mins and lots of outliers\n",
    "\n",
    "4.\tIs it reasonable to assume that our sampling distribution will be symmetric? \n",
    "    - Yes - because of the CLT\n",
    "    - Lots of samples\n",
    "    \n",
    "5.\tWhat happens to the sampling distribution as the original sample size increases? As the number of samples to create it increases? And what happens to the bootstrap sampling distribution?\n",
    "    - Smaller\n",
    "    - Smaller\n",
    "    - Smaller\n",
    "\n",
    "6.\tWhat is annoying about the first bootstrap confidence interval that was taught?\n",
    "    - Taken from population\n",
    "    - We don't have that normally\n",
    "\n",
    "7.\tCan you show empirically that the percentile confidence interval works? Code it.\n",
    "    - \n",
    "\n",
    "8. Is there a way that you can estimate the percent of times your confidence interval will be right without the population distribution?\n",
    "    - Yes"
   ]
  },
  {
   "cell_type": "code",
   "execution_count": 12,
   "metadata": {},
   "outputs": [
    {
     "name": "stdout",
     "output_type": "stream",
     "text": [
      "28.7\n",
      "32.12\n"
     ]
    }
   ],
   "source": [
    "sampling_dist = [np.mean(np.random.choice(population_dist, 10, replace=False)) for _ in range(9999)]\n",
    "sample = np.random.choice(population_dist, 10, replace=False)\n",
    "\n",
    "bootstrap_dist = [np.mean(np.random.choice(sample, 10, replace=True)) for _ in range(9999)]\n",
    "sample_mean = np.mean(sample)\n",
    "\n",
    "sample = np.random.choice(population_dist, 50, replace=False)\n",
    "\n",
    "bootstrap_dist = sns.algorithms.bootstrap(sample, n_boot=9999, func=np.mean)\n",
    "\n",
    "print (np.percentile(bootstrap_dist, 2.5))\n",
    "print (np.percentile(bootstrap_dist, 97.5))"
   ]
  },
  {
   "cell_type": "code",
   "execution_count": 25,
   "metadata": {},
   "outputs": [],
   "source": [
    "population_dist\n",
    "\n",
    "def confidence_interval_works():\n",
    "    sample = np.random.choice(population_dist, 30, replace=False)\n",
    "    \n",
    "    bootstrap_dist = sns.algorithms.bootstrap(sample, n_boot=250, func=np.mean)\n",
    "    \n",
    "    if np.mean(population_dist) < np.percentile(bootstrap_dist, 2.5):\n",
    "        return 1\n",
    "    if np.mean(population_dist) > np.percentile(bootstrap_dist, 97.5):\n",
    "        return 1\n",
    "    return 0\n",
    "    "
   ]
  },
  {
   "cell_type": "code",
   "execution_count": 26,
   "metadata": {},
   "outputs": [
    {
     "data": {
      "text/plain": [
       "0.052"
      ]
     },
     "execution_count": 26,
     "metadata": {},
     "output_type": "execute_result"
    }
   ],
   "source": [
    "np.mean([confidence_interval_works() for _ in range(250)])"
   ]
  },
  {
   "cell_type": "code",
   "execution_count": 31,
   "metadata": {},
   "outputs": [],
   "source": [
    "sample_og = np.random.choice(population_dist, 30, replace=True)\n",
    "\n",
    "def confidence_interval_works():\n",
    "    sample_og = np.random.choice(sample_og, 30, replace=True)\n",
    "    \n",
    "    bootstrap_dist = sns.algorithms.bootstrap(sample_og, n_boot=250, func=np.mean)\n",
    "    \n",
    "    if np.mean(sample_og) < np.percentile(bootstrap_dist, 2.5):\n",
    "        return 1\n",
    "    if np.mean(sample_og) > np.percentile(bootstrap_dist, 97.5):\n",
    "        return 1\n",
    "    return 0\n",
    "    "
   ]
  },
  {
   "cell_type": "code",
   "execution_count": 32,
   "metadata": {},
   "outputs": [
    {
     "ename": "UnboundLocalError",
     "evalue": "local variable 'sample_og' referenced before assignment",
     "output_type": "error",
     "traceback": [
      "\u001b[0;31m---------------------------------------------------------------------------\u001b[0m",
      "\u001b[0;31mUnboundLocalError\u001b[0m                         Traceback (most recent call last)",
      "\u001b[0;32m<ipython-input-32-8b4d8484ebcd>\u001b[0m in \u001b[0;36m<module>\u001b[0;34m()\u001b[0m\n\u001b[0;32m----> 1\u001b[0;31m \u001b[0mnp\u001b[0m\u001b[0;34m.\u001b[0m\u001b[0mmean\u001b[0m\u001b[0;34m(\u001b[0m\u001b[0;34m[\u001b[0m\u001b[0mconfidence_interval_works\u001b[0m\u001b[0;34m(\u001b[0m\u001b[0;34m)\u001b[0m \u001b[0;32mfor\u001b[0m \u001b[0m_\u001b[0m \u001b[0;32min\u001b[0m \u001b[0mrange\u001b[0m\u001b[0;34m(\u001b[0m\u001b[0;36m250\u001b[0m\u001b[0;34m)\u001b[0m\u001b[0;34m]\u001b[0m\u001b[0;34m)\u001b[0m\u001b[0;34m\u001b[0m\u001b[0m\n\u001b[0m",
      "\u001b[0;32m<ipython-input-32-8b4d8484ebcd>\u001b[0m in \u001b[0;36m<listcomp>\u001b[0;34m(.0)\u001b[0m\n\u001b[0;32m----> 1\u001b[0;31m \u001b[0mnp\u001b[0m\u001b[0;34m.\u001b[0m\u001b[0mmean\u001b[0m\u001b[0;34m(\u001b[0m\u001b[0;34m[\u001b[0m\u001b[0mconfidence_interval_works\u001b[0m\u001b[0;34m(\u001b[0m\u001b[0;34m)\u001b[0m \u001b[0;32mfor\u001b[0m \u001b[0m_\u001b[0m \u001b[0;32min\u001b[0m \u001b[0mrange\u001b[0m\u001b[0;34m(\u001b[0m\u001b[0;36m250\u001b[0m\u001b[0;34m)\u001b[0m\u001b[0;34m]\u001b[0m\u001b[0;34m)\u001b[0m\u001b[0;34m\u001b[0m\u001b[0m\n\u001b[0m",
      "\u001b[0;32m<ipython-input-31-16abf5b12e14>\u001b[0m in \u001b[0;36mconfidence_interval_works\u001b[0;34m()\u001b[0m\n\u001b[1;32m      2\u001b[0m \u001b[0;34m\u001b[0m\u001b[0m\n\u001b[1;32m      3\u001b[0m \u001b[0;32mdef\u001b[0m \u001b[0mconfidence_interval_works\u001b[0m\u001b[0;34m(\u001b[0m\u001b[0;34m)\u001b[0m\u001b[0;34m:\u001b[0m\u001b[0;34m\u001b[0m\u001b[0m\n\u001b[0;32m----> 4\u001b[0;31m     \u001b[0msample_og\u001b[0m \u001b[0;34m=\u001b[0m \u001b[0mnp\u001b[0m\u001b[0;34m.\u001b[0m\u001b[0mrandom\u001b[0m\u001b[0;34m.\u001b[0m\u001b[0mchoice\u001b[0m\u001b[0;34m(\u001b[0m\u001b[0msample_og\u001b[0m\u001b[0;34m,\u001b[0m \u001b[0;36m30\u001b[0m\u001b[0;34m,\u001b[0m \u001b[0mreplace\u001b[0m\u001b[0;34m=\u001b[0m\u001b[0;32mTrue\u001b[0m\u001b[0;34m)\u001b[0m\u001b[0;34m\u001b[0m\u001b[0m\n\u001b[0m\u001b[1;32m      5\u001b[0m \u001b[0;34m\u001b[0m\u001b[0m\n\u001b[1;32m      6\u001b[0m     \u001b[0mbootstrap_dist\u001b[0m \u001b[0;34m=\u001b[0m \u001b[0msns\u001b[0m\u001b[0;34m.\u001b[0m\u001b[0malgorithms\u001b[0m\u001b[0;34m.\u001b[0m\u001b[0mbootstrap\u001b[0m\u001b[0;34m(\u001b[0m\u001b[0msample_og\u001b[0m\u001b[0;34m,\u001b[0m \u001b[0mn_boot\u001b[0m\u001b[0;34m=\u001b[0m\u001b[0;36m250\u001b[0m\u001b[0;34m,\u001b[0m \u001b[0mfunc\u001b[0m\u001b[0;34m=\u001b[0m\u001b[0mnp\u001b[0m\u001b[0;34m.\u001b[0m\u001b[0mmean\u001b[0m\u001b[0;34m)\u001b[0m\u001b[0;34m\u001b[0m\u001b[0m\n",
      "\u001b[0;31mUnboundLocalError\u001b[0m: local variable 'sample_og' referenced before assignment"
     ]
    }
   ],
   "source": [
    "np.mean([confidence_interval_works() for _ in range(250)])"
   ]
  },
  {
   "cell_type": "code",
   "execution_count": null,
   "metadata": {},
   "outputs": [],
   "source": []
  }
 ],
 "metadata": {
  "kernelspec": {
   "display_name": "Python 3",
   "language": "python",
   "name": "python3"
  },
  "language_info": {
   "codemirror_mode": {
    "name": "ipython",
    "version": 3
   },
   "file_extension": ".py",
   "mimetype": "text/x-python",
   "name": "python",
   "nbconvert_exporter": "python",
   "pygments_lexer": "ipython3",
   "version": "3.6.5"
  }
 },
 "nbformat": 4,
 "nbformat_minor": 2
}
