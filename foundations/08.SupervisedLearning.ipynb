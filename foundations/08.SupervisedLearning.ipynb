{
 "cells": [
  {
   "cell_type": "markdown",
   "metadata": {
    "collapsed": true,
    "slideshow": {
     "slide_type": "slide"
    }
   },
   "source": [
    "## Learning Objective\n",
    "\n",
    "Today we are going to focus on two questions:\n",
    "\n",
    "1. What is machine learning\n",
    "2. Can we learn\n",
    "\n",
    "We will describe machine learning with a set of connected assumptions, and then we will be telling a story of whether we can learn."
   ]
  },
  {
   "cell_type": "markdown",
   "metadata": {
    "slideshow": {
     "slide_type": "slide"
    }
   },
   "source": [
    "## Machine Learning\n",
    "\n",
    "We are getting to the heart of the course now. You have seen the most crucial assumptions, but you have not seen the most crucial results. Today we are going to talk about machine learning.\n"
   ]
  },
  {
   "cell_type": "markdown",
   "metadata": {
    "slideshow": {
     "slide_type": "subslide"
    }
   },
   "source": [
    "For machine learning to work, you need a couple of statements to be true about your problem:\n",
    "\n",
    "* A pattern exists\n",
    "* We cannot pin the pattern down mathematically\n",
    "* We have data on it\n",
    "\n",
    "If these statements are true then we should think about doing machine learning. If no pattern exists, then what we are trying to predict is completely random, we can't do it. If we can pin it down mathematically, then we should just do that. If we don't have data on it, well back to the drawing board.\n"
   ]
  },
  {
   "cell_type": "markdown",
   "metadata": {
    "slideshow": {
     "slide_type": "subslide"
    }
   },
   "source": [
    "An example of a machine learning problem could be credit approval. A customer comes to a bank and asks for a loan and the bank needs to decide to give or not to give them the loan. In this case we have some crucial parts of the machine learning problem:\n",
    "\n",
    "* Input X (the customer application)\n",
    "* Output y (approve/deny)\n",
    "* Target function f(X) = y (the ideal credit approval formula given the input X)\n",
    "* Data (x_1, y_1), ..., (x_n, y_n) (the historical records)\n",
    "* Hypothesis g(X) = y (formula to be used)\n",
    "\n",
    "And so we are led to another set of assumptions which I will show below and explain after:"
   ]
  },
  {
   "cell_type": "code",
   "execution_count": 3,
   "metadata": {
    "slideshow": {
     "slide_type": "skip"
    }
   },
   "outputs": [
    {
     "name": "stdout",
     "output_type": "stream",
     "text": [
      "Requirement already satisfied: graphviz in /anaconda3/lib/python3.6/site-packages (0.10)\n",
      "Requirement already satisfied: pydot in /anaconda3/lib/python3.6/site-packages (1.2.4)\n",
      "Requirement already satisfied: pyparsing>=2.1.4 in /anaconda3/lib/python3.6/site-packages (from pydot) (2.2.0)\n",
      "Requirement already satisfied: networkx in /anaconda3/lib/python3.6/site-packages (2.1)\n",
      "Requirement already satisfied: decorator>=4.1.0 in /anaconda3/lib/python3.6/site-packages (from networkx) (4.3.0)\n",
      "Requirement already satisfied: nxpd in /anaconda3/lib/python3.6/site-packages (0.2.0)\n",
      "Requirement already satisfied: pyparsing>=2.0.1 in /anaconda3/lib/python3.6/site-packages (from nxpd) (2.2.0)\n",
      "Requirement already satisfied: networkx>=1.6 in /anaconda3/lib/python3.6/site-packages (from nxpd) (2.1)\n",
      "Requirement already satisfied: decorator>=4.1.0 in /anaconda3/lib/python3.6/site-packages (from networkx>=1.6->nxpd) (4.3.0)\n"
     ]
    }
   ],
   "source": [
    "!pip install graphviz\n",
    "!pip install pydot\n",
    "!pip install networkx\n",
    "!pip install nxpd\n",
    "\n",
    "import networkx as nx\n",
    "from nxpd import draw\n",
    "from nxpd import nxpdParams\n",
    "nxpdParams['show'] = 'ipynb'\n",
    "\n",
    "c0 = 'Unknown target function, f(X) = y'\n",
    "c1 = 'Inputs, (x_1, y_1), ..., (x_n, y_n)'\n",
    "c2 = 'Learning Algorithm'\n",
    "c3 = 'Hypothesis set, H'\n",
    "c4 = 'Final Hypothesis, g(X) = y'\n",
    "\n",
    "G = nx.DiGraph()\n",
    "G.add_node(c0)\n",
    "G.add_node(c1)\n",
    "G.add_edge(c0, c1)\n",
    "G.add_node(c2)\n",
    "G.add_edge(c1, c2)\n",
    "G.add_node(c3)\n",
    "G.add_edge(c3, c2)\n",
    "G.add_node(c4)\n",
    "G.add_edge(c2, c4)"
   ]
  },
  {
   "cell_type": "code",
   "execution_count": 2,
   "metadata": {
    "scrolled": true,
    "slideshow": {
     "slide_type": "subslide"
    }
   },
   "outputs": [
    {
     "ename": "InvocationException",
     "evalue": "GraphViz's executables not found",
     "output_type": "error",
     "traceback": [
      "\u001b[0;31m---------------------------------------------------------------------------\u001b[0m",
      "\u001b[0;31mInvocationException\u001b[0m                       Traceback (most recent call last)",
      "\u001b[0;32m<ipython-input-2-3a7e7a7530a4>\u001b[0m in \u001b[0;36m<module>\u001b[0;34m()\u001b[0m\n\u001b[0;32m----> 1\u001b[0;31m \u001b[0mdraw\u001b[0m\u001b[0;34m(\u001b[0m\u001b[0mG\u001b[0m\u001b[0;34m)\u001b[0m\u001b[0;34m\u001b[0m\u001b[0m\n\u001b[0m",
      "\u001b[0;32m/anaconda3/lib/python3.6/site-packages/nxpd/nx_pydot.py\u001b[0m in \u001b[0;36mdraw_pydot\u001b[0;34m(G, filename, format, prefix, suffix, layout, args, show)\u001b[0m\n\u001b[1;32m    456\u001b[0m     \u001b[0;31m# Draw the image.\u001b[0m\u001b[0;34m\u001b[0m\u001b[0;34m\u001b[0m\u001b[0m\n\u001b[1;32m    457\u001b[0m     \u001b[0mG2\u001b[0m \u001b[0;34m=\u001b[0m \u001b[0mto_pydot\u001b[0m\u001b[0;34m(\u001b[0m\u001b[0mG\u001b[0m\u001b[0;34m)\u001b[0m\u001b[0;34m\u001b[0m\u001b[0m\n\u001b[0;32m--> 458\u001b[0;31m     \u001b[0mG2\u001b[0m\u001b[0;34m.\u001b[0m\u001b[0mwrite\u001b[0m\u001b[0;34m(\u001b[0m\u001b[0mfobj\u001b[0m\u001b[0;34m,\u001b[0m \u001b[0mprog\u001b[0m\u001b[0;34m=\u001b[0m\u001b[0mprog\u001b[0m\u001b[0;34m,\u001b[0m \u001b[0mformat\u001b[0m\u001b[0;34m=\u001b[0m\u001b[0mext\u001b[0m\u001b[0;34m)\u001b[0m\u001b[0;34m\u001b[0m\u001b[0m\n\u001b[0m\u001b[1;32m    459\u001b[0m     \u001b[0;32mif\u001b[0m \u001b[0mclose\u001b[0m\u001b[0;34m:\u001b[0m\u001b[0;34m\u001b[0m\u001b[0m\n\u001b[1;32m    460\u001b[0m         \u001b[0mfobj\u001b[0m\u001b[0;34m.\u001b[0m\u001b[0mclose\u001b[0m\u001b[0;34m(\u001b[0m\u001b[0;34m)\u001b[0m\u001b[0;34m\u001b[0m\u001b[0m\n",
      "\u001b[0;32m/anaconda3/lib/python3.6/site-packages/nxpd/pydot/__init__.py\u001b[0m in \u001b[0;36mwrite\u001b[0;34m(self, path, prog, format)\u001b[0m\n\u001b[1;32m   1839\u001b[0m \u001b[0;34m\u001b[0m\u001b[0m\n\u001b[1;32m   1840\u001b[0m             \u001b[0;32melse\u001b[0m\u001b[0;34m:\u001b[0m\u001b[0;34m\u001b[0m\u001b[0m\n\u001b[0;32m-> 1841\u001b[0;31m                 \u001b[0mfobj\u001b[0m\u001b[0;34m.\u001b[0m\u001b[0mwrite\u001b[0m\u001b[0;34m(\u001b[0m\u001b[0mself\u001b[0m\u001b[0;34m.\u001b[0m\u001b[0mcreate\u001b[0m\u001b[0;34m(\u001b[0m\u001b[0mprog\u001b[0m\u001b[0;34m,\u001b[0m \u001b[0mformat\u001b[0m\u001b[0;34m)\u001b[0m\u001b[0;34m)\u001b[0m\u001b[0;34m\u001b[0m\u001b[0m\n\u001b[0m\u001b[1;32m   1842\u001b[0m         \u001b[0;32mfinally\u001b[0m\u001b[0;34m:\u001b[0m\u001b[0;34m\u001b[0m\u001b[0m\n\u001b[1;32m   1843\u001b[0m             \u001b[0;32mif\u001b[0m \u001b[0mclose\u001b[0m\u001b[0;34m:\u001b[0m\u001b[0;34m\u001b[0m\u001b[0m\n",
      "\u001b[0;32m/anaconda3/lib/python3.6/site-packages/nxpd/pydot/__init__.py\u001b[0m in \u001b[0;36mcreate\u001b[0;34m(self, prog, format)\u001b[0m\n\u001b[1;32m   1881\u001b[0m             \u001b[0;32mif\u001b[0m \u001b[0mself\u001b[0m\u001b[0;34m.\u001b[0m\u001b[0mprogs\u001b[0m \u001b[0;32mis\u001b[0m \u001b[0;32mNone\u001b[0m\u001b[0;34m:\u001b[0m\u001b[0;34m\u001b[0m\u001b[0m\n\u001b[1;32m   1882\u001b[0m                 raise InvocationException(\n\u001b[0;32m-> 1883\u001b[0;31m                     'GraphViz\\'s executables not found')\n\u001b[0m\u001b[1;32m   1884\u001b[0m \u001b[0;34m\u001b[0m\u001b[0m\n\u001b[1;32m   1885\u001b[0m         \u001b[0;32mif\u001b[0m \u001b[0mprog\u001b[0m \u001b[0;32mnot\u001b[0m \u001b[0;32min\u001b[0m \u001b[0mself\u001b[0m\u001b[0;34m.\u001b[0m\u001b[0mprogs\u001b[0m\u001b[0;34m:\u001b[0m\u001b[0;34m\u001b[0m\u001b[0m\n",
      "\u001b[0;31mInvocationException\u001b[0m: GraphViz's executables not found"
     ]
    }
   ],
   "source": [
    "draw(G)"
   ]
  },
  {
   "cell_type": "markdown",
   "metadata": {},
   "source": [
    " Machine learning \n",
    " - looks at bag of possible patterns (hypotheses)\n",
    " - validates\n",
    " "
   ]
  },
  {
   "cell_type": "markdown",
   "metadata": {
    "slideshow": {
     "slide_type": "subslide"
    }
   },
   "source": [
    "Okay, let's discuss what is happening above. \n",
    "\n",
    "First we assume that there is some real function out there called f. This function is the one that generates the data. So in physics this is easy to grasp: you drop a ball and you measure how hard it hits the ground. In this case there is some function that takes the mass of the ball and the height which the ball was dropped from and will spit back a force.\n",
    "\n",
    "So for our credit example, this will assume there is some natural force that for a given application will produce a default or a payback of a loan. \n",
    "\n",
    "This should seem a bit silly to you for a couple reasons. One of these reasons is that the exact same application can yeild different results. Under this assumption that would never happen! But we will begin here."
   ]
  },
  {
   "cell_type": "markdown",
   "metadata": {
    "slideshow": {
     "slide_type": "subslide"
    }
   },
   "source": [
    "The next assumption is one that we have already seen, we have data. The difference here is that we actually have something along with the data, the output of f. Notice that the inputs now depend on f. The final thing to notice here is that there is no probability distribution on X. This means that we have absolutely no idea where we got the x's from. Thus is is best to assume that Baal gave them to us. "
   ]
  },
  {
   "cell_type": "markdown",
   "metadata": {
    "slideshow": {
     "slide_type": "subslide"
    }
   },
   "source": [
    "The next thing we should look at is H, the hypothesis set. This is the set of all hypotheses that we are going to look over, or put another way, this is all of the funtions that we will consider when looking for our answer, the final hypothesis."
   ]
  },
  {
   "cell_type": "markdown",
   "metadata": {
    "slideshow": {
     "slide_type": "subslide"
    }
   },
   "source": [
    "Now both the data and the hypothesis set are sent to the learning algorithm (we won't be spending too much time here) to choose the best hypothesis to return. We call this the final hypothesis. This is the hypothesis that the ML algorithm will return to you in the end.\n",
    "\n",
    "The point of the entire process is to return an g that is as close as possible to f. Or functional approximation."
   ]
  },
  {
   "cell_type": "markdown",
   "metadata": {
    "slideshow": {
     "slide_type": "slide"
    }
   },
   "source": [
    "## The missing assumption\n",
    "\n",
    "You should have noticed by now that the above is missing an assumption. But does this matter? Well we can dig a bit deeper by asking one more question:\n",
    "\n",
    "Can we learn?"
   ]
  },
  {
   "cell_type": "markdown",
   "metadata": {
    "slideshow": {
     "slide_type": "subslide"
    }
   },
   "source": [
    "Using just the data and some set of hypotheses, can we learn what the true function f is?\n",
    "\n",
    "Suppose you are given a data set:\n",
    "\n",
    "```\n",
    "(1, 1), (2, 2), (3, 3)\n",
    "```\n",
    "\n",
    "And I asked you, what do you think the true function will spit out if I give you the input 4. You say, obvious, it will spit back 4.\n",
    "\n"
   ]
  },
  {
   "cell_type": "markdown",
   "metadata": {
    "slideshow": {
     "slide_type": "fragment"
    }
   },
   "source": [
    "WRONG"
   ]
  },
  {
   "cell_type": "markdown",
   "metadata": {
    "slideshow": {
     "slide_type": "subslide"
    }
   },
   "source": [
    "I say, it will be 16. Then I ask you again, let's say I give you the input 5, what will it give me. You wager, well maybe 25?"
   ]
  },
  {
   "cell_type": "markdown",
   "metadata": {
    "slideshow": {
     "slide_type": "fragment"
    }
   },
   "source": [
    "WRONG"
   ]
  },
  {
   "cell_type": "markdown",
   "metadata": {
    "slideshow": {
     "slide_type": "subslide"
    }
   },
   "source": [
    "I say again! It will be -743. Ah you say, obviously (in a clearly sarcastic manner). One final question, I say. What if I give you 3, what will it give me. You expecting a trick say: 42!"
   ]
  },
  {
   "cell_type": "markdown",
   "metadata": {
    "slideshow": {
     "slide_type": "fragment"
    }
   },
   "source": [
    "SO WRONG"
   ]
  },
  {
   "cell_type": "markdown",
   "metadata": {
    "slideshow": {
     "slide_type": "subslide"
    }
   },
   "source": [
    "You know what the answer is, it was in your data set. It will be 3. \n",
    "\n",
    "Perhaps you see the point. Sure you can learn what the function will return if it is in your data set, but any data point that you haven't seen, you have no idea what it will return. \n",
    "\n",
    "The problem is that Baal the person that is giving you the points, has given you particularly nasty ones. "
   ]
  },
  {
   "cell_type": "markdown",
   "metadata": {
    "slideshow": {
     "slide_type": "slide"
    }
   },
   "source": [
    "## Next time\n",
    "\n",
    "Next time we will see that if we have our friend: some probability distribution X, give us the points instead of Baal we can actually learn. But that is for next time."
   ]
  },
  {
   "cell_type": "markdown",
   "metadata": {
    "collapsed": true,
    "slideshow": {
     "slide_type": "slide"
    }
   },
   "source": [
    "## Learning Objective\n",
    "\n",
    "Today we are going to focus on two questions:\n",
    "\n",
    "1. What is machine learning\n",
    "2. Can we learn\n",
    "\n",
    "We will describe machine learning with a set of connected assumptions, and then we will be telling a story of whether we can learn."
   ]
  },
  {
   "cell_type": "markdown",
   "metadata": {
    "slideshow": {
     "slide_type": "slide"
    }
   },
   "source": [
    "## Comprehension Questions\n",
    "\n",
    "1.\tCan all learning problems be expressed as a function?\n",
    "    - Yes; \n",
    "    \n",
    "2.\tIf you wanted to learn to make programs that sort numbers what would the ingredients to the machine learning graph be?\n",
    "    - Cause and effect (inputs, x and y variables)\n",
    "    - unknown target function, f(X)=y --> a program that will give you a function of a pattern\n",
    "    - input: methods or ways of organizing things, program that gives a function of a pattern; output: program that will give you a function of sorting numbers into a pattern\n",
    "    - Sort function in that language\n",
    "    - Final Hypothesis: \n",
    "    \n",
    "3.\tWhat is the missing assumption?\n",
    "    - Dependence/independence of the inputs\n",
    "    - IID\n",
    "    \n",
    "4.\tWhat do I mean when I say that Baal is giving us the data points?\n",
    "    - Truly random data\n",
    "    - We made no assumptions on where the data came from\n",
    "\n",
    "5.\tIf you have seen the input before, you know what the output should be, right?\n",
    "    - No; Because we have not seen every outcome, we do not know what the outcome could be for any and all inputs."
   ]
  },
  {
   "cell_type": "code",
   "execution_count": null,
   "metadata": {},
   "outputs": [],
   "source": []
  }
 ],
 "metadata": {
  "kernelspec": {
   "display_name": "Python 3",
   "language": "python",
   "name": "python3"
  },
  "language_info": {
   "codemirror_mode": {
    "name": "ipython",
    "version": 3
   },
   "file_extension": ".py",
   "mimetype": "text/x-python",
   "name": "python",
   "nbconvert_exporter": "python",
   "pygments_lexer": "ipython3",
   "version": "3.6.5"
  }
 },
 "nbformat": 4,
 "nbformat_minor": 2
}
