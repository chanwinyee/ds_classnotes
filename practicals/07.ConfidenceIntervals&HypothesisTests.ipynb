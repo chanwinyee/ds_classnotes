{
 "cells": [
  {
   "cell_type": "markdown",
   "metadata": {
    "collapsed": true,
    "slideshow": {
     "slide_type": "slide"
    }
   },
   "source": [
    "## Learning Objectives\n",
    "\n",
    "Today we are going to apply confidence intervals to real world data, being very careful to state our assumptions along the way."
   ]
  },
  {
   "cell_type": "markdown",
   "metadata": {
    "slideshow": {
     "slide_type": "slide"
    }
   },
   "source": [
    "## What's next\n",
    "\n",
    "So you have gone to your team and shown them your estimate of the median ages of billionaires. They are pretty happy with the results, but they want to know some more information. They are interested when these billionaires founded their companies and they want to know what is the 25 percentile oldest companies that billionaire currently have founded.\n",
    "\n",
    "So they are not just interested in the statistic on the dataset, they are interested as well in what the true population looks like. So that means we need to do bootstrapping.\n",
    "\n",
    "First step get the data:"
   ]
  },
  {
   "cell_type": "code",
   "execution_count": 1,
   "metadata": {
    "slideshow": {
     "slide_type": "subslide"
    }
   },
   "outputs": [],
   "source": [
    "import pandas as pd\n",
    "import numpy as np\n",
    "\n",
    "df = pd.read_csv('../data/billionaires.csv')\n",
    "\n",
    "del df['was founder']\n",
    "del df['inherited']\n",
    "del df['from emerging']\n",
    "\n",
    "df.age.replace(-1, np.NaN, inplace=True)\n",
    "df.founded.replace(0, np.NaN, inplace=True)\n",
    "df.gdp.replace(0, np.NaN, inplace=True)"
   ]
  },
  {
   "cell_type": "markdown",
   "metadata": {
    "slideshow": {
     "slide_type": "subslide"
    }
   },
   "source": [
    "The second step will be to isolate our original sample:"
   ]
  },
  {
   "cell_type": "code",
   "execution_count": 2,
   "metadata": {
    "slideshow": {
     "slide_type": "fragment"
    }
   },
   "outputs": [
    {
     "data": {
      "text/plain": [
       "count    1641.000000\n",
       "mean     1963.185253\n",
       "std        38.071352\n",
       "min      1615.000000\n",
       "25%      1948.000000\n",
       "50%      1973.000000\n",
       "75%      1991.000000\n",
       "max      2012.000000\n",
       "Name: founded, dtype: float64"
      ]
     },
     "execution_count": 2,
     "metadata": {},
     "output_type": "execute_result"
    }
   ],
   "source": [
    "df2014 = df[df.year == 2014]\n",
    "\n",
    "founded_sample = df2014.founded.dropna()\n",
    "\n",
    "founded_sample.describe()"
   ]
  },
  {
   "cell_type": "markdown",
   "metadata": {
    "slideshow": {
     "slide_type": "subslide"
    }
   },
   "source": [
    "Then we will draw bootstrap samples from our original sample:"
   ]
  },
  {
   "cell_type": "code",
   "execution_count": 3,
   "metadata": {
    "slideshow": {
     "slide_type": "fragment"
    }
   },
   "outputs": [],
   "source": [
    "bootstrap_samples = np.random.choice(founded_sample, size=(founded_sample.count(), 9999))"
   ]
  },
  {
   "cell_type": "code",
   "execution_count": 4,
   "metadata": {},
   "outputs": [
    {
     "name": "stdout",
     "output_type": "stream",
     "text": [
      "[[1871. 1953. 1995. ... 1989. 1954. 1965.]\n",
      " [1983. 1997. 1973. ... 1968. 1926. 1997.]\n",
      " [1994. 1994. 1994. ... 1985. 1961. 1995.]\n",
      " ...\n",
      " [1988. 1991. 1989. ... 1977. 1946. 2007.]\n",
      " [1993. 2005. 1962. ... 1995. 1992. 2004.]\n",
      " [1991. 1974. 1954. ... 1998. 1962. 1992.]]\n"
     ]
    }
   ],
   "source": [
    "print(bootstrap_samples)"
   ]
  },
  {
   "cell_type": "markdown",
   "metadata": {
    "slideshow": {
     "slide_type": "subslide"
    }
   },
   "source": [
    "Now we will compute the estimate of interest from each of the samples:"
   ]
  },
  {
   "cell_type": "code",
   "execution_count": 6,
   "metadata": {
    "slideshow": {
     "slide_type": "fragment"
    }
   },
   "outputs": [
    {
     "data": {
      "text/plain": [
       "(9999,)"
      ]
     },
     "execution_count": 6,
     "metadata": {},
     "output_type": "execute_result"
    }
   ],
   "source": [
    "bootstrap_estimates = np.percentile(bootstrap_samples, 25, axis=0)\n",
    "\n",
    "bootstrap_estimates.shape"
   ]
  },
  {
   "cell_type": "code",
   "execution_count": 9,
   "metadata": {},
   "outputs": [
    {
     "name": "stdout",
     "output_type": "stream",
     "text": [
      "[1948. 1949. 1947. ... 1946. 1950. 1949.]\n"
     ]
    }
   ],
   "source": [
    "print(bootstrap_estimates)"
   ]
  },
  {
   "cell_type": "markdown",
   "metadata": {
    "slideshow": {
     "slide_type": "subslide"
    }
   },
   "source": [
    "Now we plot the distribution:"
   ]
  },
  {
   "cell_type": "code",
   "execution_count": 5,
   "metadata": {
    "slideshow": {
     "slide_type": "subslide"
    }
   },
   "outputs": [
    {
     "name": "stderr",
     "output_type": "stream",
     "text": [
      "/anaconda3/lib/python3.6/site-packages/matplotlib/axes/_axes.py:6462: UserWarning: The 'normed' kwarg is deprecated, and has been replaced by the 'density' kwarg.\n",
      "  warnings.warn(\"The 'normed' kwarg is deprecated, and has been \"\n"
     ]
    },
    {
     "data": {
      "text/plain": [
       "<matplotlib.axes._subplots.AxesSubplot at 0x1a2876d470>"
      ]
     },
     "execution_count": 5,
     "metadata": {},
     "output_type": "execute_result"
    },
    {
     "data": {
      "image/png": "[encoded data removed]",
      "text/plain": [
       "<Figure size 432x288 with 1 Axes>"
      ]
     },
     "metadata": {},
     "output_type": "display_data"
    }
   ],
   "source": [
    "%matplotlib inline\n",
    "import seaborn as sns\n",
    "\n",
    "sns.distplot(bootstrap_estimates)"
   ]
  },
  {
   "cell_type": "markdown",
   "metadata": {
    "slideshow": {
     "slide_type": "subslide"
    }
   },
   "source": [
    "You then go back to your team and show them this distribution. And there are blank stares. They don't know what to draw from it? They just wanted a plausible range for this estimate, and this is where confidence intervals come in. \n"
   ]
  },
  {
   "cell_type": "markdown",
   "metadata": {
    "slideshow": {
     "slide_type": "slide"
    }
   },
   "source": [
    "## Confidence Intervals\n",
    "\n",
    "Making the confidence interval is pretty easy, we just remove the most extreme values to the left and the right of the distribution. So if we wanted a 95% confidence interval, then we would remove 2.5% of the values on the right and 2.5% of the values on the left. Let's do that below:"
   ]
  },
  {
   "cell_type": "code",
   "execution_count": 6,
   "metadata": {
    "slideshow": {
     "slide_type": "subslide"
    }
   },
   "outputs": [
    {
     "name": "stdout",
     "output_type": "stream",
     "text": [
      "1946.0\n",
      "1951.0\n"
     ]
    }
   ],
   "source": [
    "print(np.percentile(bootstrap_estimates, 2.5))\n",
    "print(np.percentile(bootstrap_estimates, 97.5))"
   ]
  },
  {
   "cell_type": "markdown",
   "metadata": {
    "slideshow": {
     "slide_type": "subslide"
    }
   },
   "source": [
    "And this would be our confidence interval. In terms of visualizations, seaborn is quite nice because it will visualize this confidence interval for you if you use certain plots:"
   ]
  },
  {
   "cell_type": "code",
   "execution_count": 7,
   "metadata": {
    "slideshow": {
     "slide_type": "subslide"
    }
   },
   "outputs": [
    {
     "data": {
      "text/plain": [
       "<matplotlib.axes._subplots.AxesSubplot at 0x1a2891e358>"
      ]
     },
     "execution_count": 7,
     "metadata": {},
     "output_type": "execute_result"
    },
    {
     "data": {
      "image/png": "[encoded data removed]",
      "text/plain": [
       "<Figure size 432x288 with 1 Axes>"
      ]
     },
     "metadata": {},
     "output_type": "display_data"
    }
   ],
   "source": [
    "sns.pointplot(founded_sample, ci=95, estimator=lambda x: np.percentile(x, 25))"
   ]
  },
  {
   "cell_type": "markdown",
   "metadata": {
    "slideshow": {
     "slide_type": "subslide"
    }
   },
   "source": [
    "And if you are lazy you can just use seaborn's bootstrap confidence interval function:"
   ]
  },
  {
   "cell_type": "code",
   "execution_count": 8,
   "metadata": {
    "slideshow": {
     "slide_type": "fragment"
    }
   },
   "outputs": [
    {
     "data": {
      "text/plain": [
       "(10000,)"
      ]
     },
     "execution_count": 8,
     "metadata": {},
     "output_type": "execute_result"
    }
   ],
   "source": [
    "sns_bs = sns.algorithms.bootstrap(founded_sample, func=lambda x: np.percentile(x, 25))\n",
    "\n",
    "sns_bs.shape"
   ]
  },
  {
   "cell_type": "code",
   "execution_count": 9,
   "metadata": {
    "slideshow": {
     "slide_type": "subslide"
    }
   },
   "outputs": [
    {
     "name": "stdout",
     "output_type": "stream",
     "text": [
      "1946.0\n",
      "1951.0\n"
     ]
    }
   ],
   "source": [
    "print(np.percentile(sns_bs, 2.5))\n",
    "print(np.percentile(sns_bs, 97.5))"
   ]
  },
  {
   "cell_type": "markdown",
   "metadata": {
    "slideshow": {
     "slide_type": "slide"
    }
   },
   "source": [
    "## A warning\n",
    "\n",
    "There is one thing that needs to be said before we end our lesson here, and that is to mention black swans. We know from our previous analysis that worth in billions has a long right tail, and is a power law distribution. A single person can shift the average. For example it would not be impossible that one person had 500 billion dollars, and if they were included in the young populaiton, then the mean would shift by 1 billion dollars. Crazy right. Because this type of event is possible we need to be sure to alert people that use this data that an event like this may happen. This type of event on the other hand could not have happened with age (nobody can be 500 years old)."
   ]
  },
  {
   "cell_type": "markdown",
   "metadata": {
    "collapsed": true,
    "slideshow": {
     "slide_type": "slide"
    }
   },
   "source": [
    "## Learning Objectives\n",
    "\n",
    "Today we are going to apply confidence intervals to real world data, being very careful to state our assumptions along the way."
   ]
  },
  {
   "cell_type": "markdown",
   "metadata": {
    "slideshow": {
     "slide_type": "slide"
    }
   },
   "source": [
    "## Comprehension Questions\n",
    "\n",
    "1.\tWhat is the true population of billionaires? Did we get IID samples from it?\n",
    "    - It's every human who owns or is worth some billion or billions in currency at all points in time\n",
    "        - Depends on the problem statemet, what are we looking for?\n",
    "    - Maybe, need to read through documentation to confirm the methodology to confirm that it truly is random\n",
    "    \n",
    "2.\tHow would you explain a confidence interval to a non-technical person?\n",
    "    - With a certain amount of confidence, I know what I saw is likely to happen with a certain % confidence\n",
    "    - In a controlled experiment; the delta of in the test group might be a fluke. This allows me to see if that fluke (with some confidence) is an observation that is likely tied to your hypothesis\n",
    "\n",
    "3.\tCan we compute certain statistics from the data better than others?\n",
    "    - Better confidence intervals for specific statistics (function, mean versus maxes, outlier independent ones)\n",
    "    \n",
    "4.\tIs a 50% confidence interval narrower or wider than a 99% confidence interval?\n",
    "    - narrower\n"
   ]
  },
  {
   "cell_type": "code",
   "execution_count": 11,
   "metadata": {},
   "outputs": [
    {
     "data": {
      "text/html": [
       "<div>\n",
       "<style scoped>\n",
       "    .dataframe tbody tr th:only-of-type {\n",
       "        vertical-align: middle;\n",
       "    }\n",
       "\n",
       "    .dataframe tbody tr th {\n",
       "        vertical-align: top;\n",
       "    }\n",
       "\n",
       "    .dataframe thead th {\n",
       "        text-align: right;\n",
       "    }\n",
       "</style>\n",
       "<table border=\"1\" class=\"dataframe\">\n",
       "  <thead>\n",
       "    <tr style=\"text-align: right;\">\n",
       "      <th></th>\n",
       "      <th>age</th>\n",
       "      <th>category</th>\n",
       "      <th>citizenship</th>\n",
       "      <th>company.name</th>\n",
       "      <th>company.type</th>\n",
       "      <th>country code</th>\n",
       "      <th>founded</th>\n",
       "      <th>gdp</th>\n",
       "      <th>gender</th>\n",
       "      <th>industry</th>\n",
       "      <th>name</th>\n",
       "      <th>rank</th>\n",
       "      <th>region</th>\n",
       "      <th>relationship</th>\n",
       "      <th>sector</th>\n",
       "      <th>was political</th>\n",
       "      <th>wealth.type</th>\n",
       "      <th>worth in billions</th>\n",
       "      <th>year</th>\n",
       "    </tr>\n",
       "  </thead>\n",
       "  <tbody>\n",
       "    <tr>\n",
       "      <th>0</th>\n",
       "      <td>NaN</td>\n",
       "      <td>Financial</td>\n",
       "      <td>Saudi Arabia</td>\n",
       "      <td>Rolaco Trading and Contracting Company</td>\n",
       "      <td>new</td>\n",
       "      <td>SAU</td>\n",
       "      <td>1968.0</td>\n",
       "      <td>1.580000e+11</td>\n",
       "      <td>male</td>\n",
       "      <td>Money Management</td>\n",
       "      <td>Abdul Aziz Al-Sulaiman</td>\n",
       "      <td>404</td>\n",
       "      <td>Middle East/North Africa</td>\n",
       "      <td>founder</td>\n",
       "      <td>construction</td>\n",
       "      <td>False</td>\n",
       "      <td>self-made finance</td>\n",
       "      <td>1.0</td>\n",
       "      <td>1996</td>\n",
       "    </tr>\n",
       "    <tr>\n",
       "      <th>1</th>\n",
       "      <td>34.0</td>\n",
       "      <td>Financial</td>\n",
       "      <td>United States</td>\n",
       "      <td>Fidelity Investments</td>\n",
       "      <td>new</td>\n",
       "      <td>USA</td>\n",
       "      <td>1946.0</td>\n",
       "      <td>8.100000e+12</td>\n",
       "      <td>female</td>\n",
       "      <td>Money Management</td>\n",
       "      <td>Abigail Johnson</td>\n",
       "      <td>145</td>\n",
       "      <td>North America</td>\n",
       "      <td>relation</td>\n",
       "      <td>investment banking</td>\n",
       "      <td>False</td>\n",
       "      <td>inherited</td>\n",
       "      <td>2.5</td>\n",
       "      <td>1996</td>\n",
       "    </tr>\n",
       "    <tr>\n",
       "      <th>2</th>\n",
       "      <td>59.0</td>\n",
       "      <td>Non-Traded Sectors</td>\n",
       "      <td>Brazil</td>\n",
       "      <td>Companhia Brasileira de Distribui?ao</td>\n",
       "      <td>new</td>\n",
       "      <td>BRA</td>\n",
       "      <td>1948.0</td>\n",
       "      <td>8.540000e+11</td>\n",
       "      <td>male</td>\n",
       "      <td>Retail, Restaurant</td>\n",
       "      <td>Abilio dos Santos Diniz</td>\n",
       "      <td>322</td>\n",
       "      <td>Latin America</td>\n",
       "      <td>relation</td>\n",
       "      <td>retail</td>\n",
       "      <td>False</td>\n",
       "      <td>inherited</td>\n",
       "      <td>1.2</td>\n",
       "      <td>1996</td>\n",
       "    </tr>\n",
       "    <tr>\n",
       "      <th>3</th>\n",
       "      <td>61.0</td>\n",
       "      <td>New Sectors</td>\n",
       "      <td>Germany</td>\n",
       "      <td>Ratiopharm</td>\n",
       "      <td>new</td>\n",
       "      <td>DEU</td>\n",
       "      <td>1881.0</td>\n",
       "      <td>2.500000e+12</td>\n",
       "      <td>male</td>\n",
       "      <td>Technology-Medical</td>\n",
       "      <td>Adolf Merckle</td>\n",
       "      <td>388</td>\n",
       "      <td>Europe</td>\n",
       "      <td>relation</td>\n",
       "      <td>pharmaceuticals</td>\n",
       "      <td>False</td>\n",
       "      <td>inherited</td>\n",
       "      <td>1.0</td>\n",
       "      <td>1996</td>\n",
       "    </tr>\n",
       "    <tr>\n",
       "      <th>4</th>\n",
       "      <td>NaN</td>\n",
       "      <td>Financial</td>\n",
       "      <td>Hong Kong</td>\n",
       "      <td>Swire</td>\n",
       "      <td>new</td>\n",
       "      <td>HKG</td>\n",
       "      <td>1816.0</td>\n",
       "      <td>1.600000e+11</td>\n",
       "      <td>male</td>\n",
       "      <td>Money Management</td>\n",
       "      <td>Adrian and John Swire</td>\n",
       "      <td>162</td>\n",
       "      <td>East Asia</td>\n",
       "      <td>relation</td>\n",
       "      <td>trading company</td>\n",
       "      <td>False</td>\n",
       "      <td>inherited</td>\n",
       "      <td>2.2</td>\n",
       "      <td>1996</td>\n",
       "    </tr>\n",
       "  </tbody>\n",
       "</table>\n",
       "</div>"
      ],
      "text/plain": [
       "    age            category    citizenship  \\\n",
       "0   NaN           Financial   Saudi Arabia   \n",
       "1  34.0           Financial  United States   \n",
       "2  59.0  Non-Traded Sectors         Brazil   \n",
       "3  61.0         New Sectors        Germany   \n",
       "4   NaN           Financial      Hong Kong   \n",
       "\n",
       "                             company.name company.type country code  founded  \\\n",
       "0  Rolaco Trading and Contracting Company          new          SAU   1968.0   \n",
       "1                    Fidelity Investments          new          USA   1946.0   \n",
       "2    Companhia Brasileira de Distribui?ao          new          BRA   1948.0   \n",
       "3                              Ratiopharm          new          DEU   1881.0   \n",
       "4                                   Swire          new          HKG   1816.0   \n",
       "\n",
       "            gdp  gender            industry                     name  rank  \\\n",
       "0  1.580000e+11    male    Money Management   Abdul Aziz Al-Sulaiman   404   \n",
       "1  8.100000e+12  female    Money Management          Abigail Johnson   145   \n",
       "2  8.540000e+11    male  Retail, Restaurant  Abilio dos Santos Diniz   322   \n",
       "3  2.500000e+12    male  Technology-Medical            Adolf Merckle   388   \n",
       "4  1.600000e+11    male    Money Management    Adrian and John Swire   162   \n",
       "\n",
       "                     region relationship              sector  was political  \\\n",
       "0  Middle East/North Africa      founder        construction          False   \n",
       "1             North America     relation  investment banking          False   \n",
       "2             Latin America     relation              retail          False   \n",
       "3                    Europe     relation     pharmaceuticals          False   \n",
       "4                 East Asia     relation     trading company          False   \n",
       "\n",
       "         wealth.type  worth in billions  year  \n",
       "0  self-made finance                1.0  1996  \n",
       "1          inherited                2.5  1996  \n",
       "2          inherited                1.2  1996  \n",
       "3          inherited                1.0  1996  \n",
       "4          inherited                2.2  1996  "
      ]
     },
     "execution_count": 11,
     "metadata": {},
     "output_type": "execute_result"
    }
   ],
   "source": [
    "df.head()"
   ]
  },
  {
   "cell_type": "code",
   "execution_count": null,
   "metadata": {},
   "outputs": [],
   "source": []
  }
 ],
 "metadata": {
  "kernelspec": {
   "display_name": "Python 3",
   "language": "python",
   "name": "python3"
  },
  "language_info": {
   "codemirror_mode": {
    "name": "ipython",
    "version": 3
   },
   "file_extension": ".py",
   "mimetype": "text/x-python",
   "name": "python",
   "nbconvert_exporter": "python",
   "pygments_lexer": "ipython3",
   "version": "3.6.5"
  }
 },
 "nbformat": 4,
 "nbformat_minor": 2
}
