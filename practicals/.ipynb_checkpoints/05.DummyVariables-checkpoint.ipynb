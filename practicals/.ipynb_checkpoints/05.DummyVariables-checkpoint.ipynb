{
 "cells": [
  {
   "cell_type": "markdown",
   "metadata": {
    "collapsed": true,
    "slideshow": {
     "slide_type": "slide"
    }
   },
   "source": [
    "## Learning Objectives\n",
    "\n",
    "Today we are going to learn about how to transform qualitative features into quantitative features and we do so using the most common representation: dummy varibles."
   ]
  },
  {
   "cell_type": "markdown",
   "metadata": {
    "collapsed": true,
    "slideshow": {
     "slide_type": "slide"
    }
   },
   "source": [
    "## Back to the data\n",
    "\n",
    "So in this lesson we jump back to the data and talk about how we transform qualitative values into quantitative ones. \n",
    "\n",
    "We have already seen this happen a couple of times when we were making random variables. A heads on a coin became a 1 and a tails 0. Getting a queen became a 1 and otherwise 0. Why did we choose the representations?"
   ]
  },
  {
   "cell_type": "markdown",
   "metadata": {
    "slideshow": {
     "slide_type": "slide"
    }
   },
   "source": [
    "## Dummy variables\n",
    "\n",
    "So in this lesson we will talk about the most common cannonical way to transform these variables: the dummy variable transform.\n",
    "\n",
    "First let's get our data:"
   ]
  },
  {
   "cell_type": "code",
   "execution_count": 1,
   "metadata": {
    "slideshow": {
     "slide_type": "subslide"
    }
   },
   "outputs": [],
   "source": [
    "import pandas as pd\n",
    "import numpy as np\n",
    "\n",
    "df = pd.read_csv('../data/billionaires.csv')\n",
    "\n",
    "del df['was founder']\n",
    "del df['inherited']\n",
    "del df['from emerging']\n",
    "\n",
    "df.age.replace(-1, np.NaN, inplace=True)\n",
    "df.founded.replace(0, np.NaN, inplace=True)\n",
    "df.gdp.replace(0, np.NaN, inplace=True)"
   ]
  },
  {
   "cell_type": "markdown",
   "metadata": {
    "slideshow": {
     "slide_type": "subslide"
    }
   },
   "source": [
    "Now let's check out some of the qualitative columns:"
   ]
  },
  {
   "cell_type": "code",
   "execution_count": 2,
   "metadata": {
    "slideshow": {
     "slide_type": "fragment"
    }
   },
   "outputs": [
    {
     "data": {
      "text/plain": [
       "inherited                   953\n",
       "founder non-finance         713\n",
       "self-made finance           500\n",
       "privatized and resources    236\n",
       "executive                   190\n",
       "Name: wealth.type, dtype: int64"
      ]
     },
     "execution_count": 2,
     "metadata": {},
     "output_type": "execute_result"
    }
   ],
   "source": [
    "%matplotlib inline\n",
    "import seaborn as sns\n",
    "\n",
    "df['wealth.type'].value_counts()"
   ]
  },
  {
   "cell_type": "markdown",
   "metadata": {
    "slideshow": {
     "slide_type": "subslide"
    }
   },
   "source": [
    "The above column has five types with a good spread over types. But let's say we wanted to transform this quantitatvie column into a qualitative one (for example we could be interested in creating a random variable).\n",
    "\n",
    "What would we do?\n",
    "\n",
    "One suggestion would be to just make them the numbers 1, 2, 3, 4, 5. But can you already see the problem here? What would happen if we averaged the column? We would get something around 3.1, but what does that mean? The average has lost its meaning. What about the implied relationship between the columns? In this case executive is five times inherited. Does that make any practical sense?\n",
    "\n",
    "You may be getting the feeling that our problem is impossible. And it certainly is, if you only have one column..."
   ]
  },
  {
   "cell_type": "markdown",
   "metadata": {
    "slideshow": {
     "slide_type": "slide"
    }
   },
   "source": [
    "## More dummies\n",
    "\n",
    "The way to solve this problem is by adding more columns. For the dummy variable approach you can add one column for each type. That way you can't compare the types to each other. But what values do you fill the columns with? \n",
    "\n",
    "Well we want the average to mean something right? So filling them with -42 is inherited and 99 is not inherited still leaves us in a situtation where the average still doesn't mean anything. Is there a value that we can use that will actually have meaning?\n",
    "\n",
    "It turns out that 0 and 1 is pretty good for this. In the inherited column you put a 1 if they did inherit their wealth and a 0 otherwise. In this case what does the average mean?\n",
    "\n",
    "You guessed it, now the average is the probability that the person is inherited!"
   ]
  },
  {
   "cell_type": "markdown",
   "metadata": {
    "slideshow": {
     "slide_type": "slide"
    }
   },
   "source": [
    "## Panda time\n",
    "\n",
    "So now that we understand what the transformation is, let's use it in practice:"
   ]
  },
  {
   "cell_type": "code",
   "execution_count": 3,
   "metadata": {
    "slideshow": {
     "slide_type": "subslide"
    }
   },
   "outputs": [
    {
     "name": "stdout",
     "output_type": "stream",
     "text": [
      "<class 'pandas.core.frame.DataFrame'>\n",
      "RangeIndex: 2614 entries, 0 to 2613\n",
      "Data columns (total 23 columns):\n",
      "age                                     2229 non-null float64\n",
      "category                                2613 non-null object\n",
      "citizenship                             2614 non-null object\n",
      "company.name                            2576 non-null object\n",
      "company.type                            2578 non-null object\n",
      "country code                            2614 non-null object\n",
      "founded                                 2574 non-null float64\n",
      "gdp                                     949 non-null float64\n",
      "gender                                  2580 non-null object\n",
      "industry                                2613 non-null object\n",
      "name                                    2614 non-null object\n",
      "rank                                    2614 non-null int64\n",
      "region                                  2614 non-null object\n",
      "relationship                            2568 non-null object\n",
      "sector                                  2591 non-null object\n",
      "was political                           2614 non-null bool\n",
      "worth in billions                       2614 non-null float64\n",
      "year                                    2614 non-null int64\n",
      "wealth.type_executive                   2614 non-null uint8\n",
      "wealth.type_founder non-finance         2614 non-null uint8\n",
      "wealth.type_inherited                   2614 non-null uint8\n",
      "wealth.type_privatized and resources    2614 non-null uint8\n",
      "wealth.type_self-made finance           2614 non-null uint8\n",
      "dtypes: bool(1), float64(4), int64(2), object(11), uint8(5)\n",
      "memory usage: 362.6+ KB\n"
     ]
    }
   ],
   "source": [
    "df_new = pd.get_dummies(df, columns=['wealth.type'])\n",
    "\n",
    "df_new.info()"
   ]
  },
  {
   "cell_type": "markdown",
   "metadata": {
    "slideshow": {
     "slide_type": "subslide"
    }
   },
   "source": [
    "Using the above command we get all our goodies. Notice that we no longer have our old wealth.type column but instead have 5 new ones, and we can do some interesting things with our data now:"
   ]
  },
  {
   "cell_type": "code",
   "execution_count": 4,
   "metadata": {
    "slideshow": {
     "slide_type": "subslide"
    }
   },
   "outputs": [
    {
     "data": {
      "text/plain": [
       "['wealth.type_executive',\n",
       " 'wealth.type_founder non-finance',\n",
       " 'wealth.type_inherited',\n",
       " 'wealth.type_privatized and resources',\n",
       " 'wealth.type_self-made finance']"
      ]
     },
     "execution_count": 4,
     "metadata": {},
     "output_type": "execute_result"
    }
   ],
   "source": [
    "wealth_type_columns = [col for col in df_new.columns if col.startswith('wealth')]\n",
    "\n",
    "# get all the associated dummy columns\n",
    "wealth_type_columns"
   ]
  },
  {
   "cell_type": "code",
   "execution_count": 5,
   "metadata": {
    "slideshow": {
     "slide_type": "subslide"
    }
   },
   "outputs": [
    {
     "data": {
      "text/html": [
       "<div>\n",
       "<style scoped>\n",
       "    .dataframe tbody tr th:only-of-type {\n",
       "        vertical-align: middle;\n",
       "    }\n",
       "\n",
       "    .dataframe tbody tr th {\n",
       "        vertical-align: top;\n",
       "    }\n",
       "\n",
       "    .dataframe thead th {\n",
       "        text-align: right;\n",
       "    }\n",
       "</style>\n",
       "<table border=\"1\" class=\"dataframe\">\n",
       "  <thead>\n",
       "    <tr style=\"text-align: right;\">\n",
       "      <th></th>\n",
       "      <th>wealth.type_executive</th>\n",
       "      <th>wealth.type_founder non-finance</th>\n",
       "      <th>wealth.type_inherited</th>\n",
       "      <th>wealth.type_privatized and resources</th>\n",
       "      <th>wealth.type_self-made finance</th>\n",
       "    </tr>\n",
       "    <tr>\n",
       "      <th>gender</th>\n",
       "      <th></th>\n",
       "      <th></th>\n",
       "      <th></th>\n",
       "      <th></th>\n",
       "      <th></th>\n",
       "    </tr>\n",
       "  </thead>\n",
       "  <tbody>\n",
       "    <tr>\n",
       "      <th>female</th>\n",
       "      <td>0.024096</td>\n",
       "      <td>0.100402</td>\n",
       "      <td>0.823293</td>\n",
       "      <td>0.020080</td>\n",
       "      <td>0.028112</td>\n",
       "    </tr>\n",
       "    <tr>\n",
       "      <th>male</th>\n",
       "      <td>0.079038</td>\n",
       "      <td>0.295103</td>\n",
       "      <td>0.310997</td>\n",
       "      <td>0.099227</td>\n",
       "      <td>0.211770</td>\n",
       "    </tr>\n",
       "    <tr>\n",
       "      <th>married couple</th>\n",
       "      <td>0.000000</td>\n",
       "      <td>0.333333</td>\n",
       "      <td>0.666667</td>\n",
       "      <td>0.000000</td>\n",
       "      <td>0.000000</td>\n",
       "    </tr>\n",
       "  </tbody>\n",
       "</table>\n",
       "</div>"
      ],
      "text/plain": [
       "                wealth.type_executive  wealth.type_founder non-finance  \\\n",
       "gender                                                                   \n",
       "female                       0.024096                         0.100402   \n",
       "male                         0.079038                         0.295103   \n",
       "married couple               0.000000                         0.333333   \n",
       "\n",
       "                wealth.type_inherited  wealth.type_privatized and resources  \\\n",
       "gender                                                                        \n",
       "female                       0.823293                              0.020080   \n",
       "male                         0.310997                              0.099227   \n",
       "married couple               0.666667                              0.000000   \n",
       "\n",
       "                wealth.type_self-made finance  \n",
       "gender                                         \n",
       "female                               0.028112  \n",
       "male                                 0.211770  \n",
       "married couple                       0.000000  "
      ]
     },
     "execution_count": 5,
     "metadata": {},
     "output_type": "execute_result"
    }
   ],
   "source": [
    "df_new.groupby('gender')[wealth_type_columns].mean()"
   ]
  },
  {
   "cell_type": "markdown",
   "metadata": {
    "slideshow": {
     "slide_type": "fragment"
    }
   },
   "source": [
    "Now we can compare how wealth type is distributed over other qualitative variables."
   ]
  },
  {
   "cell_type": "code",
   "execution_count": 6,
   "metadata": {
    "slideshow": {
     "slide_type": "subslide"
    }
   },
   "outputs": [
    {
     "data": {
      "text/plain": [
       "<matplotlib.axes._subplots.AxesSubplot at 0x113182438>"
      ]
     },
     "execution_count": 6,
     "metadata": {},
     "output_type": "execute_result"
    },
    {
     "data": {
      "image/png": "[encoded data removed]",
      "text/plain": [
       "<Figure size 432x288 with 2 Axes>"
      ]
     },
     "metadata": {},
     "output_type": "display_data"
    }
   ],
   "source": [
    "sns.heatmap(df_new.groupby('gender')[wealth_type_columns].mean())"
   ]
  },
  {
   "cell_type": "markdown",
   "metadata": {
    "slideshow": {
     "slide_type": "subslide"
    }
   },
   "source": [
    "Or we can get the correlations due to wealth type:"
   ]
  },
  {
   "cell_type": "code",
   "execution_count": 7,
   "metadata": {
    "slideshow": {
     "slide_type": "subslide"
    }
   },
   "outputs": [
    {
     "name": "stderr",
     "output_type": "stream",
     "text": [
      "/anaconda3/lib/python3.6/site-packages/matplotlib/axes/_axes.py:6462: UserWarning: The 'normed' kwarg is deprecated, and has been replaced by the 'density' kwarg.\n",
      "  warnings.warn(\"The 'normed' kwarg is deprecated, and has been \"\n",
      "/anaconda3/lib/python3.6/site-packages/matplotlib/axes/_axes.py:6462: UserWarning: The 'normed' kwarg is deprecated, and has been replaced by the 'density' kwarg.\n",
      "  warnings.warn(\"The 'normed' kwarg is deprecated, and has been \"\n"
     ]
    },
    {
     "data": {
      "text/plain": [
       "<seaborn.axisgrid.JointGrid at 0x1a1f129160>"
      ]
     },
     "execution_count": 7,
     "metadata": {},
     "output_type": "execute_result"
    },
    {
     "data": {
      "image/png": "[encoded data removed]",
      "text/plain": [
       "<Figure size 432x432 with 3 Axes>"
      ]
     },
     "metadata": {},
     "output_type": "display_data"
    }
   ],
   "source": [
    "sns.jointplot(x='wealth.type_inherited', y='worth in billions', data=df_new)"
   ]
  },
  {
   "cell_type": "markdown",
   "metadata": {
    "slideshow": {
     "slide_type": "slide"
    }
   },
   "source": [
    "## One view\n",
    "\n",
    "Once again this is just one way of transforming qualitative variables into quantitative variables, and once we do that we can do much of the traditional quantitative variable analysis on them. There are many ways of transforming these variables and if you interested in learning more, please tune in to my videos on patsy where I specifically go over the most common ones."
   ]
  },
  {
   "cell_type": "markdown",
   "metadata": {
    "collapsed": true,
    "slideshow": {
     "slide_type": "slide"
    }
   },
   "source": [
    "## Learning Objectives\n",
    "\n",
    "Today we are going to learn about how to transform qualitative features into quantitative features and we do so using the most common representation: dummy varibles."
   ]
  },
  {
   "cell_type": "markdown",
   "metadata": {
    "slideshow": {
     "slide_type": "slide"
    }
   },
   "source": [
    "## Comprehension Questions\n",
    "\n",
    "1.\tAre there other good representations that you can think of? \n",
    "    1. Word Vectors; embedding\n",
    "    1. Hybrid solution: use multiple variables to define\n",
    "    \n",
    "    \n",
    "2.\tWhat are the properties of good representations?\n",
    "    1. They also expose other metrics when summarized/aggregated\n",
    "    1. They do not impose rank or other implications on qualitative \n",
    "    1. They share more information about qualitative variable\n",
    "    \n",
    "    1. Expose what's really there\n",
    "\n"
   ]
  },
  {
   "cell_type": "code",
   "execution_count": null,
   "metadata": {},
   "outputs": [],
   "source": []
  }
 ],
 "metadata": {
  "celltoolbar": "Slideshow",
  "kernelspec": {
   "display_name": "Python 3",
   "language": "python",
   "name": "python3"
  },
  "language_info": {
   "codemirror_mode": {
    "name": "ipython",
    "version": 3
   },
   "file_extension": ".py",
   "mimetype": "text/x-python",
   "name": "python",
   "nbconvert_exporter": "python",
   "pygments_lexer": "ipython3",
   "version": "3.6.5"
  }
 },
 "nbformat": 4,
 "nbformat_minor": 2
}
