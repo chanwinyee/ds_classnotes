{
 "cells": [
  {
   "cell_type": "markdown",
   "metadata": {
    "collapsed": true
   },
   "source": [
    "## Learning Objectives\n",
    "\n",
    "Today we learn how to use a random variable in practice by examining how we would make sales forecasts using a random variable."
   ]
  },
  {
   "cell_type": "markdown",
   "metadata": {
    "slideshow": {
     "slide_type": "slide"
    }
   },
   "source": [
    "## Last time\n",
    "\n",
    "For those that do not remember last time, we ended on an interesting question:\n",
    "\n",
    "<blockquote>\n",
    "Let's say you were worked on a sales team. Let's say that each year your team reaches out to 500 customers and that you make a sale to that customer 15% of the time. Let's do one more thing here. Let's say you have two products: an expensive one that costs \\$1,000K and a cheap one that costs \\$5K. And let's say that 1% of your sales are expensive and the rest cheap. Your boss then asks you to project your earnings for next year. What do you do?\n",
    "</blockquote>\n",
    "\n",
    "Last time we were able to construct a random variable and even draw samples from it, but we ended the lesson by asking all sorts of questions: what is the mean sales forecast, what is the variance, what does the sales distribution look like?\n",
    "\n",
    "Well now we should be better able to answer some of these questions. But first let's look at the r.v. again:"
   ]
  },
  {
   "cell_type": "code",
   "execution_count": 1,
   "metadata": {
    "slideshow": {
     "slide_type": "subslide"
    }
   },
   "outputs": [],
   "source": [
    "import numpy as np\n",
    "\n",
    "def sales_rv():\n",
    "    sales = 0\n",
    "    # 500 customers\n",
    "    for _ in range(500):\n",
    "        # 15% chance of success\n",
    "        if np.random.rand() < .15:\n",
    "            # 10% chance of a big sale\n",
    "            if np.random.rand() < .01:\n",
    "                sales += 1000\n",
    "            else:\n",
    "                sales += 5\n",
    "    return sales"
   ]
  },
  {
   "cell_type": "code",
   "execution_count": 2,
   "metadata": {
    "slideshow": {
     "slide_type": "subslide"
    }
   },
   "outputs": [
    {
     "data": {
      "text/plain": [
       "1410"
      ]
     },
     "execution_count": 2,
     "metadata": {},
     "output_type": "execute_result"
    }
   ],
   "source": [
    "sales_rv()"
   ]
  },
  {
   "cell_type": "markdown",
   "metadata": {
    "slideshow": {
     "slide_type": "subslide"
    }
   },
   "source": [
    "Again you can see that we can take samples of this variable. And now we know we can do much much more. If your boss asks you to estimate what you expect to sell next year you can find the mean of the above random variable:"
   ]
  },
  {
   "cell_type": "code",
   "execution_count": 3,
   "metadata": {
    "slideshow": {
     "slide_type": "fragment"
    }
   },
   "outputs": [
    {
     "data": {
      "text/plain": [
       "1132.100210021002"
      ]
     },
     "execution_count": 3,
     "metadata": {},
     "output_type": "execute_result"
    }
   ],
   "source": [
    "almost_infinite_samples = [sales_rv() for _ in range(9999)]\n",
    "\n",
    "np.mean(almost_infinite_samples)"
   ]
  },
  {
   "cell_type": "markdown",
   "metadata": {
    "slideshow": {
     "slide_type": "subslide"
    }
   },
   "source": [
    "And so on average you can report back to your boss: around 1123 K dollars. But what if your boss asks you for a lower bound, what could you do?\n",
    "\n",
    "Well you could look at the bottom 10% of your sales forecast distribution and report that back to your boss (and you could even say that I am 90% confident that we will beat this forecast, because 90% of the outcomes are higher)."
   ]
  },
  {
   "cell_type": "code",
   "execution_count": 4,
   "metadata": {
    "slideshow": {
     "slide_type": "fragment"
    }
   },
   "outputs": [
    {
     "data": {
      "text/plain": [
       "340.0"
      ]
     },
     "execution_count": 4,
     "metadata": {},
     "output_type": "execute_result"
    }
   ],
   "source": [
    "np.percentile(almost_infinite_samples, 10)"
   ]
  },
  {
   "cell_type": "markdown",
   "metadata": {
    "slideshow": {
     "slide_type": "subslide"
    }
   },
   "source": [
    "And then what if your boss asks you for the full range of forecasts, we wants to know how you are providing such awesome answers. In that case you can actually show your boss the distribution of your forecast:"
   ]
  },
  {
   "cell_type": "code",
   "execution_count": 6,
   "metadata": {
    "slideshow": {
     "slide_type": "subslide"
    }
   },
   "outputs": [
    {
     "name": "stderr",
     "output_type": "stream",
     "text": [
      "/anaconda3/lib/python3.6/site-packages/matplotlib/axes/_axes.py:6462: UserWarning: The 'normed' kwarg is deprecated, and has been replaced by the 'density' kwarg.\n",
      "  warnings.warn(\"The 'normed' kwarg is deprecated, and has been \"\n"
     ]
    },
    {
     "data": {
      "text/plain": [
       "<matplotlib.axes._subplots.AxesSubplot at 0x1a195f8240>"
      ]
     },
     "execution_count": 6,
     "metadata": {},
     "output_type": "execute_result"
    },
    {
     "data": {
      "image/png": "[encoded data removed]",
      "text/plain": [
       "<Figure size 432x288 with 1 Axes>"
      ]
     },
     "metadata": {},
     "output_type": "display_data"
    }
   ],
   "source": [
    "%matplotlib inline\n",
    "import seaborn as sns\n",
    "\n",
    "sns.distplot(almost_infinite_samples)\n",
    "\n",
    "# Probability distribution"
   ]
  },
  {
   "cell_type": "markdown",
   "metadata": {
    "slideshow": {
     "slide_type": "subslide"
    }
   },
   "source": [
    "Look you can say to your boss, there is even a chance that we can make more than 4 million next year, but it is unlikely. "
   ]
  },
  {
   "cell_type": "markdown",
   "metadata": {
    "slideshow": {
     "slide_type": "slide"
    }
   },
   "source": [
    "## Well that's nice\n",
    "\n",
    "So this is nice. You should be able to see how random variables are so important and we are just seeing the tip of the iceberg as to how they can be used. There is an important point to note here: we are not actually using infinite samples. This can really mess our calculations up. Note that we have a rare event in our r.v., not too rare of an event, but a large rare event that dramatically changes how much we can make during a year.\n",
    "\n",
    "These events can be called black swans. So if we have an extremely rare event that has a very large impact, we might never see it in our samples (unless our samples are infinite).\n",
    "\n",
    "Next time we will leave this topic be and go back to our data set, cleaning it a bit more before we move to bootstrap."
   ]
  },
  {
   "cell_type": "markdown",
   "metadata": {
    "collapsed": true
   },
   "source": [
    "## Learning Objectives\n",
    "\n",
    "Today we learn how to use a random variable in practice by examining how we would make sales forecasts using a random variable."
   ]
  },
  {
   "cell_type": "markdown",
   "metadata": {
    "slideshow": {
     "slide_type": "slide"
    }
   },
   "source": [
    "## Comprehension Questions\n",
    "\n",
    "1.\tWhat can’t you model with a random variable?\n",
    "    1. Volitile (stock market?)\n",
    "    1. Something that is constant, time\n",
    "    1. Most things are actually model-able\n",
    "    \n",
    "2.\tHow’d we get the numbers associated with the sales random variable? \n",
    "    1. Historical trends\n",
    "    1. Domain knowledge\n",
    "    1. Random function\n",
    "\n",
    "3.\tWhat is the problem with estimating the max of a random variable?\n",
    "    1. A single sample can throw this calculation\n",
    "    1. Max is considered an \"edge summary statistic\" where a single outlier can negatively impact forecast\n",
    "\n",
    "4.\tIf you show somebody the distribution of the random variable is there any information they don’t know about it?\n",
    "    1. They don't know the number of samples in the distribution\n",
    "    1. Missing summary statistics\n",
    "\n",
    "5.  Why are black swans a problem when estimating functions of random variables?\n",
    "    1. A Black Swan may greatly impact our summary statistic. \n",
    "    \n",
    "6. Example of outlier resistant functions:\n",
    "    1. Geometric Mean\n",
    "    1. Median\n",
    "    1. Windsor-ized mean"
   ]
  },
  {
   "cell_type": "code",
   "execution_count": null,
   "metadata": {},
   "outputs": [],
   "source": []
  }
 ],
 "metadata": {
  "celltoolbar": "Slideshow",
  "kernelspec": {
   "display_name": "Python 3",
   "language": "python",
   "name": "python3"
  },
  "language_info": {
   "codemirror_mode": {
    "name": "ipython",
    "version": 3
   },
   "file_extension": ".py",
   "mimetype": "text/x-python",
   "name": "python",
   "nbconvert_exporter": "python",
   "pygments_lexer": "ipython3",
   "version": "3.6.5"
  }
 },
 "nbformat": 4,
 "nbformat_minor": 2
}
