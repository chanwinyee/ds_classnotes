{
 "cells": [
  {
   "cell_type": "markdown",
   "metadata": {
    "slideshow": {
     "slide_type": "slide"
    }
   },
   "source": [
    "## Learning Objectives\n",
    "\n",
    "We will learn how to make a random variable from a real world situation. We also will learn how to use random varibles in simulation (but we will see more on this in foundations 4)"
   ]
  },
  {
   "cell_type": "markdown",
   "metadata": {
    "slideshow": {
     "slide_type": "slide"
    }
   },
   "source": [
    "## Step away from the Whiteboard\n",
    "\n",
    "This part is much easier, now that we have done the hard foundational stuff, I wanted to take a small lesson and teach you how to make a random variable. So let's get started."
   ]
  },
  {
   "cell_type": "markdown",
   "metadata": {
    "slideshow": {
     "slide_type": "fragment"
    }
   },
   "source": [
    "To start off with let's make a random variable that represents drawing a card from a deck, let's say queens. The situation will be: we shuffle a deck of 52 cards and draw one off the top and we will be happy if we draw a queen. So let's make this guy:"
   ]
  },
  {
   "cell_type": "code",
   "execution_count": 2,
   "metadata": {
    "slideshow": {
     "slide_type": "subslide"
    }
   },
   "outputs": [],
   "source": [
    "import numpy as np\n",
    "\n",
    "def queens():\n",
    "    # queens are the 40th to the 44th cards in a deck\n",
    "    # so first let's simulate drawing a card from the deck:\n",
    "    card_number = np.random.randint(1,53)\n",
    "    \n",
    "    # and if the card number is such that it is the queen's number\n",
    "    # we will return: 'Got a Queen!\"\n",
    "    # otherwise we will return: 'Not a Queen...\"\n",
    "    if card_number >= 40 and card_number < 44:\n",
    "        return 'Got a Queen!'\n",
    "    else:\n",
    "        return 'Not a Queen!'\n",
    "    \n",
    "    # This is not a random variable because this does not return a number"
   ]
  },
  {
   "cell_type": "markdown",
   "metadata": {
    "slideshow": {
     "slide_type": "subslide"
    }
   },
   "source": [
    "Done! We can sample from the above by calling it:"
   ]
  },
  {
   "cell_type": "code",
   "execution_count": 3,
   "metadata": {
    "slideshow": {
     "slide_type": "fragment"
    }
   },
   "outputs": [
    {
     "data": {
      "text/plain": [
       "'Not a Queen!'"
      ]
     },
     "execution_count": 3,
     "metadata": {},
     "output_type": "execute_result"
    }
   ],
   "source": [
    "queens()"
   ]
  },
  {
   "cell_type": "code",
   "execution_count": 4,
   "metadata": {
    "slideshow": {
     "slide_type": "fragment"
    }
   },
   "outputs": [
    {
     "data": {
      "text/plain": [
       "'Not a Queen!'"
      ]
     },
     "execution_count": 4,
     "metadata": {},
     "output_type": "execute_result"
    }
   ],
   "source": [
    "queens()"
   ]
  },
  {
   "cell_type": "markdown",
   "metadata": {
    "slideshow": {
     "slide_type": "subslide"
    }
   },
   "source": [
    "But is this a random variable? Not quite. A random variable can only return numbers, so one easy way of transforming the above into a number is a 1 for success and a 0 for no queen:"
   ]
  },
  {
   "cell_type": "code",
   "execution_count": 5,
   "metadata": {
    "slideshow": {
     "slide_type": "subslide"
    }
   },
   "outputs": [],
   "source": [
    "import numpy as np\n",
    "\n",
    "def queens_rv():\n",
    "    card_number = np.random.randint(1,53)\n",
    "    if card_number >= 40 and card_number < 44:\n",
    "        return 1\n",
    "    else:\n",
    "        return 0"
   ]
  },
  {
   "cell_type": "code",
   "execution_count": 6,
   "metadata": {
    "slideshow": {
     "slide_type": "fragment"
    }
   },
   "outputs": [
    {
     "data": {
      "text/plain": [
       "[0, 0, 0, 0, 0, 1, 1, 1, 0, 0, 0, 0]"
      ]
     },
     "execution_count": 6,
     "metadata": {},
     "output_type": "execute_result"
    }
   ],
   "source": [
    "[queens_rv() for _ in range(12)]\n",
    "\n",
    "#Draw 12 cards; how mnay of these are Queens"
   ]
  },
  {
   "cell_type": "code",
   "execution_count": 15,
   "metadata": {},
   "outputs": [
    {
     "data": {
      "text/plain": [
       "0.07910791079107911"
      ]
     },
     "execution_count": 15,
     "metadata": {},
     "output_type": "execute_result"
    }
   ],
   "source": [
    "np.mean([queens_rv() for _ in range(9999)])"
   ]
  },
  {
   "cell_type": "markdown",
   "metadata": {
    "slideshow": {
     "slide_type": "slide"
    }
   },
   "source": [
    "## Not so useful...\n",
    "\n",
    "Well the above is not super useful right? Perhaps if you are playing a game and need to do this type of action a thousand times, then yes it might be useful, but outside of games making a r.v. seems pretty useless right?\n",
    "\n",
    "Well let's try a more useful example.\n",
    "\n",
    "Let's say you were worked on a sales team. Let's say that each year your team reaches out to 500 customers and that you make a sale to that customer 15% of the time. Let's do one more thing here. Let's say you have two products: an expensive one that costs \\$1,000K and a cheap one that costs \\$5K. And let's say that 1% of your sales are expensive and the rest cheap. Your boss then asks you to project your earnings for next year. What do you do?\n",
    "\n",
    "Well this time we will cover the hard part, that is transforming your current situation into a random variable, that way you can take some samples and get a good sense of what your sales might be. So let's make this a r.v."
   ]
  },
  {
   "cell_type": "code",
   "execution_count": 16,
   "metadata": {
    "slideshow": {
     "slide_type": "subslide"
    }
   },
   "outputs": [],
   "source": [
    "def sales_rv():\n",
    "    sales = 0\n",
    "    # 500 customers\n",
    "    for _ in range(500):\n",
    "        # 15% chance of success\n",
    "        if np.random.rand() < .15: # this is a rate that has been historically observed\n",
    "            # 1% chance of a big sale\n",
    "            if np.random.rand() < .01: # this is a rate that has been historically observed\n",
    "                sales += 1000\n",
    "            else:\n",
    "                sales += 5\n",
    "    return sales"
   ]
  },
  {
   "cell_type": "code",
   "execution_count": 19,
   "metadata": {
    "slideshow": {
     "slide_type": "subslide"
    }
   },
   "outputs": [
    {
     "data": {
      "text/plain": [
       "1420"
      ]
     },
     "execution_count": 19,
     "metadata": {},
     "output_type": "execute_result"
    }
   ],
   "source": [
    "sales_rv()"
   ]
  },
  {
   "cell_type": "code",
   "execution_count": 18,
   "metadata": {
    "slideshow": {
     "slide_type": "fragment"
    }
   },
   "outputs": [
    {
     "data": {
      "text/plain": [
       "310"
      ]
     },
     "execution_count": 18,
     "metadata": {},
     "output_type": "execute_result"
    }
   ],
   "source": [
    "sales_rv()"
   ]
  },
  {
   "cell_type": "markdown",
   "metadata": {
    "slideshow": {
     "slide_type": "slide"
    }
   },
   "source": [
    "## What is missing\n",
    "\n",
    "Well you may now be thinking: this is great! I can totally do sales forecasting now, but which sample do I use? If only there were other ways to extract information from my random variable. I don't get to see the distribution, or ask what the mean is, or anything like what we were doing on the previous data. If only we could...\n",
    "\n",
    "Well all I'll say is wait till next time.\n",
    "\n",
    "Gather .describe() on a sample\n"
   ]
  },
  {
   "cell_type": "markdown",
   "metadata": {
    "collapsed": true,
    "slideshow": {
     "slide_type": "slide"
    }
   },
   "source": [
    "## Learning Objectives\n",
    "\n",
    "We will learn how to make a random variable from a real world situation. We also will learn how to use random varibles in simulation (but we will see more on this in foundations 4)"
   ]
  },
  {
   "cell_type": "markdown",
   "metadata": {
    "slideshow": {
     "slide_type": "slide"
    }
   },
   "source": [
    "## Comprehension Questions\n",
    "\n",
    "1.\tHow do you make a random variable?\n",
    "    1. Create a function with:\n",
    "        1. Some Range or starting point\n",
    "        1. Some probability of arriving within an ideal range\n",
    "        1. Return a number\n",
    "        \n",
    "2.\tWhy is it useful to make a random variable?\n",
    "    1. This describes the population and allows us to generate imaginary samples so we can aggregate and draw conclusions\n",
    "    \n",
    "3.\tAre there any problems with simulating future sales with random variables?\n",
    "    1. Conversion rates are in flux\n",
    "    1. Lots of variation is possible in the future\n",
    "    1. Making big assumptions that sales will happen in a certain way\n",
    "    \n",
    "4.\tHow would you make a random variable that could help you determine how many jobs you should apply for?\n",
    "    1. Determine threshold you're willing to accept\n",
    "    1. Historical/external data on probability that there is a chance of success\n",
    "    \n",
    "    \n",
    "5.\tHow would you use a random variable to determine the amount you should pay for a car?\n",
    "    1. \n",
    "\n",
    "6.\tWhy are simulations a good/bad tool for decision making?\n"
   ]
  },
  {
   "cell_type": "code",
   "execution_count": 29,
   "metadata": {},
   "outputs": [],
   "source": [
    "# job success = .08\n",
    "\n",
    "def job_apps_rv():\n",
    "    job = 0\n",
    "    if np.random.rand() < .08: # this is a rate that has been historically observed\n",
    "        job += 1\n",
    "    else:\n",
    "        job += 0\n",
    "    return job"
   ]
  },
  {
   "cell_type": "code",
   "execution_count": 49,
   "metadata": {},
   "outputs": [
    {
     "data": {
      "text/plain": [
       "0"
      ]
     },
     "execution_count": 49,
     "metadata": {},
     "output_type": "execute_result"
    }
   ],
   "source": [
    "job_apps_rv()"
   ]
  },
  {
   "cell_type": "code",
   "execution_count": 56,
   "metadata": {},
   "outputs": [],
   "source": [
    "def hydra_dead_rv():\n",
    "    hydra_heads = 3\n",
    "    if np.random.rand() < .25: # probability head grows back\n",
    "        if np.random.rand() < .25: # probablility 2 heads grow back\n",
    "            hydra_heads += 2\n",
    "        elif np.random.rand() < .5:\n",
    "            hydra_heads += 1\n",
    "    return hydra_heads()\n",
    "            \n",
    "            \n",
    "        "
   ]
  },
  {
   "cell_type": "code",
   "execution_count": 57,
   "metadata": {},
   "outputs": [
    {
     "ename": "TypeError",
     "evalue": "'int' object is not callable",
     "output_type": "error",
     "traceback": [
      "\u001b[0;31m---------------------------------------------------------------------------\u001b[0m",
      "\u001b[0;31mTypeError\u001b[0m                                 Traceback (most recent call last)",
      "\u001b[0;32m<ipython-input-57-47c95f8149f8>\u001b[0m in \u001b[0;36m<module>\u001b[0;34m()\u001b[0m\n\u001b[0;32m----> 1\u001b[0;31m \u001b[0mhydra_dead_rv\u001b[0m\u001b[0;34m(\u001b[0m\u001b[0;34m)\u001b[0m\u001b[0;34m\u001b[0m\u001b[0m\n\u001b[0m",
      "\u001b[0;32m<ipython-input-56-be2d8c02d805>\u001b[0m in \u001b[0;36mhydra_dead_rv\u001b[0;34m()\u001b[0m\n\u001b[1;32m      6\u001b[0m         \u001b[0;32melif\u001b[0m \u001b[0mnp\u001b[0m\u001b[0;34m.\u001b[0m\u001b[0mrandom\u001b[0m\u001b[0;34m.\u001b[0m\u001b[0mrand\u001b[0m\u001b[0;34m(\u001b[0m\u001b[0;34m)\u001b[0m \u001b[0;34m<\u001b[0m \u001b[0;36m.5\u001b[0m\u001b[0;34m:\u001b[0m\u001b[0;34m\u001b[0m\u001b[0m\n\u001b[1;32m      7\u001b[0m             \u001b[0mhydra_heads\u001b[0m \u001b[0;34m+=\u001b[0m \u001b[0;36m0\u001b[0m\u001b[0;34m\u001b[0m\u001b[0m\n\u001b[0;32m----> 8\u001b[0;31m     \u001b[0;32mreturn\u001b[0m \u001b[0mhydra_heads\u001b[0m\u001b[0;34m(\u001b[0m\u001b[0;34m)\u001b[0m\u001b[0;34m\u001b[0m\u001b[0m\n\u001b[0m\u001b[1;32m      9\u001b[0m \u001b[0;34m\u001b[0m\u001b[0m\n\u001b[1;32m     10\u001b[0m \u001b[0;34m\u001b[0m\u001b[0m\n",
      "\u001b[0;31mTypeError\u001b[0m: 'int' object is not callable"
     ]
    }
   ],
   "source": [
    "hydra_dead_rv()"
   ]
  },
  {
   "cell_type": "code",
   "execution_count": null,
   "metadata": {},
   "outputs": [],
   "source": [
    "[hydra_dead_rv() for _ in range(12)]"
   ]
  },
  {
   "cell_type": "code",
   "execution_count": null,
   "metadata": {},
   "outputs": [],
   "source": [
    "np.mean([hydra_dead_rv for _ in range(12)])b"
   ]
  },
  {
   "cell_type": "code",
   "execution_count": 60,
   "metadata": {},
   "outputs": [],
   "source": [
    "def knight_iter():\n",
    "    heads = 3\n",
    "    swing = np.random.randint(r)\n",
    "    \n",
    "    # print(str(swing))\n",
    "    while heads < 5:\n",
    "        if heads <= 0:\n",
    "            return 1\n",
    "    \n",
    "        swing = np.random.randomint(4)\n",
    "    \n",
    "        if (swing == 0) or (swing==1):\n",
    "            heads -= 1\n",
    "        elif swing == 2:\n",
    "            heads += 1\n",
    "        else:\n",
    "            pass # Number of heads stays the same\n",
    "    return 0\n",
    "    "
   ]
  },
  {
   "cell_type": "code",
   "execution_count": 61,
   "metadata": {},
   "outputs": [
    {
     "ename": "NameError",
     "evalue": "name 'r' is not defined",
     "output_type": "error",
     "traceback": [
      "\u001b[0;31m---------------------------------------------------------------------------\u001b[0m",
      "\u001b[0;31mNameError\u001b[0m                                 Traceback (most recent call last)",
      "\u001b[0;32m<ipython-input-61-5f3ec67f6890>\u001b[0m in \u001b[0;36m<module>\u001b[0;34m()\u001b[0m\n\u001b[0;32m----> 1\u001b[0;31m \u001b[0moutcomes\u001b[0m \u001b[0;34m=\u001b[0m \u001b[0;34m[\u001b[0m\u001b[0mknight_iter\u001b[0m\u001b[0;34m(\u001b[0m\u001b[0;34m)\u001b[0m \u001b[0;32mfor\u001b[0m \u001b[0m_\u001b[0m \u001b[0;32min\u001b[0m \u001b[0mrange\u001b[0m \u001b[0;34m(\u001b[0m\u001b[0;36m1000000000\u001b[0m\u001b[0;34m)\u001b[0m\u001b[0;34m]\u001b[0m\u001b[0;34m\u001b[0m\u001b[0m\n\u001b[0m\u001b[1;32m      2\u001b[0m \u001b[0mnp\u001b[0m\u001b[0;34m.\u001b[0m\u001b[0mmean\u001b[0m\u001b[0;34m(\u001b[0m\u001b[0moutcomes\u001b[0m\u001b[0;34m)\u001b[0m\u001b[0;34m\u001b[0m\u001b[0m\n",
      "\u001b[0;32m<ipython-input-61-5f3ec67f6890>\u001b[0m in \u001b[0;36m<listcomp>\u001b[0;34m(.0)\u001b[0m\n\u001b[0;32m----> 1\u001b[0;31m \u001b[0moutcomes\u001b[0m \u001b[0;34m=\u001b[0m \u001b[0;34m[\u001b[0m\u001b[0mknight_iter\u001b[0m\u001b[0;34m(\u001b[0m\u001b[0;34m)\u001b[0m \u001b[0;32mfor\u001b[0m \u001b[0m_\u001b[0m \u001b[0;32min\u001b[0m \u001b[0mrange\u001b[0m \u001b[0;34m(\u001b[0m\u001b[0;36m1000000000\u001b[0m\u001b[0;34m)\u001b[0m\u001b[0;34m]\u001b[0m\u001b[0;34m\u001b[0m\u001b[0m\n\u001b[0m\u001b[1;32m      2\u001b[0m \u001b[0mnp\u001b[0m\u001b[0;34m.\u001b[0m\u001b[0mmean\u001b[0m\u001b[0;34m(\u001b[0m\u001b[0moutcomes\u001b[0m\u001b[0;34m)\u001b[0m\u001b[0;34m\u001b[0m\u001b[0m\n",
      "\u001b[0;32m<ipython-input-60-baef471724bd>\u001b[0m in \u001b[0;36mknight_iter\u001b[0;34m()\u001b[0m\n\u001b[1;32m      1\u001b[0m \u001b[0;32mdef\u001b[0m \u001b[0mknight_iter\u001b[0m\u001b[0;34m(\u001b[0m\u001b[0;34m)\u001b[0m\u001b[0;34m:\u001b[0m\u001b[0;34m\u001b[0m\u001b[0m\n\u001b[1;32m      2\u001b[0m     \u001b[0mheads\u001b[0m \u001b[0;34m=\u001b[0m \u001b[0;36m3\u001b[0m\u001b[0;34m\u001b[0m\u001b[0m\n\u001b[0;32m----> 3\u001b[0;31m     \u001b[0mswing\u001b[0m \u001b[0;34m=\u001b[0m \u001b[0mnp\u001b[0m\u001b[0;34m.\u001b[0m\u001b[0mrandom\u001b[0m\u001b[0;34m.\u001b[0m\u001b[0mrandint\u001b[0m\u001b[0;34m(\u001b[0m\u001b[0mr\u001b[0m\u001b[0;34m)\u001b[0m\u001b[0;34m\u001b[0m\u001b[0m\n\u001b[0m\u001b[1;32m      4\u001b[0m \u001b[0;34m\u001b[0m\u001b[0m\n\u001b[1;32m      5\u001b[0m     \u001b[0;31m# print(str(swing))\u001b[0m\u001b[0;34m\u001b[0m\u001b[0;34m\u001b[0m\u001b[0m\n",
      "\u001b[0;31mNameError\u001b[0m: name 'r' is not defined"
     ]
    }
   ],
   "source": [
    "outcomes = [knight_iter() for _ in range (1000000000)]\n",
    "np.mean(outcomes)"
   ]
  },
  {
   "cell_type": "code",
   "execution_count": null,
   "metadata": {},
   "outputs": [],
   "source": []
  }
 ],
 "metadata": {
  "celltoolbar": "Slideshow",
  "kernelspec": {
   "display_name": "Python 3",
   "language": "python",
   "name": "python3"
  },
  "language_info": {
   "codemirror_mode": {
    "name": "ipython",
    "version": 3
   },
   "file_extension": ".py",
   "mimetype": "text/x-python",
   "name": "python",
   "nbconvert_exporter": "python",
   "pygments_lexer": "ipython3",
   "version": "3.6.5"
  }
 },
 "nbformat": 4,
 "nbformat_minor": 2
}
